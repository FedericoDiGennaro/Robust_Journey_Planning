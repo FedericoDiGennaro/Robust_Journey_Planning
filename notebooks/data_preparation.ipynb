{
 "cells": [
  {
   "cell_type": "markdown",
   "id": "67441d4c-1aab-47e7-acaf-4c317a76332a",
   "metadata": {},
   "source": [
    "## Import the necessary libraries"
   ]
  },
  {
   "cell_type": "code",
   "execution_count": 2,
   "id": "5cc16696-74f4-4c43-bdc9-7688fec9035c",
   "metadata": {},
   "outputs": [],
   "source": [
    "import os\n",
    "import pandas as pd\n",
    "pd.set_option(\"display.max_columns\", 50)\n",
    "import matplotlib.pyplot as plt\n",
    "import warnings\n",
    "import plotly.express as px\n",
    "import plotly.graph_objects as go\n",
    "import pyspark.sql.functions as SFunc\n",
    "import pyspark.sql.functions as F\n",
    "from pyspark.sql import Window\n",
    "warnings.simplefilter(action='ignore', category=UserWarning)\n",
    "%matplotlib inline"
   ]
  },
  {
   "cell_type": "markdown",
   "id": "ce4e90b9-3ca7-4e6a-a5ac-e42391242205",
   "metadata": {},
   "source": [
    "## Set up HIVE, spark and connect to cluster"
   ]
  },
  {
   "cell_type": "code",
   "execution_count": 3,
   "id": "f0689465-6797-4d04-9fd8-81ea87d842c0",
   "metadata": {},
   "outputs": [
    {
     "name": "stdout",
     "output_type": "stream",
     "text": [
      "Cleaning up livy sessions on exit is enabled\n"
     ]
    }
   ],
   "source": [
    "%load_ext sparkmagic.magics"
   ]
  },
  {
   "cell_type": "code",
   "execution_count": 4,
   "id": "ec0ab3e9-bac4-44c0-b67a-746ff116a999",
   "metadata": {},
   "outputs": [],
   "source": [
    "import os\n",
    "from IPython import get_ipython\n",
    "username = os.environ['RENKU_USERNAME']\n",
    "server = \"http://iccluster044.iccluster.epfl.ch:8998\"\n",
    "\n",
    "# set the application name as \"<your_gaspar_id>-homework3\"\n",
    "get_ipython().run_cell_magic(\n",
    "    'spark',\n",
    "    line='config', \n",
    "    cell=\"\"\"{{ \"name\": \"{0}-homework3-1\", \"executorMemory\": \"4G\", \"executorCores\": 4, \"numExecutors\": 10, \"driverMemory\": \"4G\" }}\"\"\".format(username)\n",
    ")"
   ]
  },
  {
   "cell_type": "code",
   "execution_count": 5,
   "id": "5fee5aef-c56d-4223-b195-cea40ce2b61b",
   "metadata": {},
   "outputs": [
    {
     "name": "stdout",
     "output_type": "stream",
     "text": [
      "Starting Spark application\n"
     ]
    },
    {
     "data": {
      "text/html": [
       "<table>\n",
       "<tr><th>ID</th><th>YARN Application ID</th><th>Kind</th><th>State</th><th>Spark UI</th><th>Driver log</th><th>User</th><th>Current session?</th></tr><tr><td>4572</td><td>application_1680948035106_4188</td><td>pyspark</td><td>idle</td><td><a target=\"_blank\" href=\"http://iccluster044.iccluster.epfl.ch:8088/proxy/application_1680948035106_4188/\">Link</a></td><td><a target=\"_blank\" href=\"http://iccluster062.iccluster.epfl.ch:8042/node/containerlogs/container_e01_1680948035106_4188_01_000001/ebouille\">Link</a></td><td>None</td><td>✔</td></tr></table>"
      ],
      "text/plain": [
       "<IPython.core.display.HTML object>"
      ]
     },
     "metadata": {},
     "output_type": "display_data"
    },
    {
     "data": {
      "application/vnd.jupyter.widget-view+json": {
       "model_id": "",
       "version_major": 2,
       "version_minor": 0
      },
      "text/plain": [
       "FloatProgress(value=0.0, bar_style='info', description='Progress:', layout=Layout(height='25px', width='50%'),…"
      ]
     },
     "metadata": {},
     "output_type": "display_data"
    },
    {
     "name": "stdout",
     "output_type": "stream",
     "text": [
      "SparkSession available as 'spark'.\n"
     ]
    }
   ],
   "source": [
    "get_ipython().run_line_magic(\n",
    "    \"spark\", f\"\"\"add -s {username}-finalproject-1 -l python -u {server} -k\"\"\"\n",
    ")"
   ]
  },
  {
   "cell_type": "code",
   "execution_count": 6,
   "id": "3f2d351d-e724-4c53-943e-f7022b69d3b9",
   "metadata": {},
   "outputs": [
    {
     "data": {
      "application/vnd.jupyter.widget-view+json": {
       "model_id": "",
       "version_major": 2,
       "version_minor": 0
      },
      "text/plain": [
       "FloatProgress(value=0.0, bar_style='info', description='Progress:', layout=Layout(height='25px', width='50%'),…"
      ]
     },
     "metadata": {},
     "output_type": "display_data"
    },
    {
     "name": "stdout",
     "output_type": "stream",
     "text": [
      "We are using Spark 2.4.8.7.1.8.0-801"
     ]
    }
   ],
   "source": [
    "%%spark\n",
    "print('We are using Spark %s' % spark.version)"
   ]
  },
  {
   "cell_type": "code",
   "execution_count": 7,
   "id": "b20cf218-3a91-486c-be96-2c3c5b75a222",
   "metadata": {},
   "outputs": [
    {
     "name": "stdout",
     "output_type": "stream",
     "text": [
      "your username is digennar\n",
      "you are connected to iccluster044.iccluster.epfl.ch:10000\n"
     ]
    }
   ],
   "source": [
    "from pyhive import hive\n",
    "\n",
    "# Set python variables from environment variables\n",
    "username = os.environ['USERNAME']\n",
    "hive_host = os.environ['HIVE_SERVER2'].split(':')[0]\n",
    "hive_port = os.environ['HIVE_SERVER2'].split(':')[1]\n",
    "\n",
    "# create connection\n",
    "conn = hive.connect(\n",
    "    host=hive_host,\n",
    "    port=hive_port,\n",
    "    # auth=\"KERBEROS\",\n",
    "    # kerberos_service_name = \"hive\"\n",
    ")\n",
    "\n",
    "# create cursor\n",
    "cur = conn.cursor()\n",
    "\n",
    "print(f\"your username is {username}\")\n",
    "print(f\"you are connected to {hive_host}:{hive_port}\")"
   ]
  },
  {
   "cell_type": "markdown",
   "id": "796585aa-2007-404b-8bfb-982c1862e8dc",
   "metadata": {},
   "source": [
    "## Preprocessing\n",
    "\n",
    "We need to preprocess the stops and the sbb information"
   ]
  },
  {
   "cell_type": "code",
   "execution_count": 8,
   "id": "9a2bf1fc-cf38-4fe0-b260-1864de37e56f",
   "metadata": {},
   "outputs": [],
   "source": [
    "# We start by creating a dataframe querying from sbb_orc the information we need to provide the result required\n",
    "query = \"\"\"\n",
    "    select STOP_ID as id, STOP_NAME as name, STOP_LAT as lat, STOP_LON as lon\n",
    "    from {0}.allstops_orc\n",
    "\"\"\".format(username)\n",
    "geostops_df = pd.read_sql(query, conn)"
   ]
  },
  {
   "cell_type": "code",
   "execution_count": 9,
   "id": "7a0916c5-3f7c-468d-8238-8c6877c88a6c",
   "metadata": {},
   "outputs": [
    {
     "data": {
      "text/html": [
       "<div>\n",
       "<style scoped>\n",
       "    .dataframe tbody tr th:only-of-type {\n",
       "        vertical-align: middle;\n",
       "    }\n",
       "\n",
       "    .dataframe tbody tr th {\n",
       "        vertical-align: top;\n",
       "    }\n",
       "\n",
       "    .dataframe thead th {\n",
       "        text-align: right;\n",
       "    }\n",
       "</style>\n",
       "<table border=\"1\" class=\"dataframe\">\n",
       "  <thead>\n",
       "    <tr style=\"text-align: right;\">\n",
       "      <th></th>\n",
       "      <th>id</th>\n",
       "      <th>name</th>\n",
       "      <th>lat</th>\n",
       "      <th>lon</th>\n",
       "    </tr>\n",
       "  </thead>\n",
       "  <tbody>\n",
       "    <tr>\n",
       "      <th>13238</th>\n",
       "      <td>8503000</td>\n",
       "      <td>Zürich HB</td>\n",
       "      <td>47.378178</td>\n",
       "      <td>8.540212</td>\n",
       "    </tr>\n",
       "  </tbody>\n",
       "</table>\n",
       "</div>"
      ],
      "text/plain": [
       "            id       name        lat       lon\n",
       "13238  8503000  Zürich HB  47.378178  8.540212"
      ]
     },
     "execution_count": 9,
     "metadata": {},
     "output_type": "execute_result"
    }
   ],
   "source": [
    "geostops_df[geostops_df[\"name\"] == \"Zürich HB\"].head(1)"
   ]
  },
  {
   "cell_type": "markdown",
   "id": "0fe5db8d-f1be-4284-9664-919db5c69ba0",
   "metadata": {},
   "source": [
    "#### Filtering on location\n",
    "Let us start by keeping only the stops that are in a 15km radius from Zurich station. We thus need to calculate the distance between Zurich HB and the other stops. For this, we can use the coordinates.\n",
    "Code from https://www.geeksforgeeks.org/program-distance-two-points-earth/"
   ]
  },
  {
   "cell_type": "code",
   "execution_count": 10,
   "id": "1cebfaa4-afe7-414d-82e6-05ec9acb1e53",
   "metadata": {},
   "outputs": [],
   "source": [
    "from math import radians, cos, sin, asin, sqrt\n",
    "def distance(lat1, lat2, lon1, lon2):\n",
    "     \n",
    "    # The math module contains a function named\n",
    "    # radians which converts from degrees to radians.\n",
    "    lon1 = radians(lon1)\n",
    "    lon2 = radians(lon2)\n",
    "    lat1 = radians(lat1)\n",
    "    lat2 = radians(lat2)\n",
    "      \n",
    "    # Haversine formula\n",
    "    dlon = lon2 - lon1\n",
    "    dlat = lat2 - lat1\n",
    "    a = sin(dlat / 2)**2 + cos(lat1) * cos(lat2) * sin(dlon / 2)**2\n",
    " \n",
    "    c = 2 * asin(sqrt(a))\n",
    "    \n",
    "    # Radius of earth in kilometers. Use 3956 for miles\n",
    "    r = 6371\n",
    "      \n",
    "    # calculate the result\n",
    "    return(c * r)"
   ]
  },
  {
   "cell_type": "code",
   "execution_count": 11,
   "id": "51f849a9-b358-44c1-acb0-19058018b039",
   "metadata": {},
   "outputs": [
    {
     "name": "stdout",
     "output_type": "stream",
     "text": [
      "Number of stops before filtering on distance from Zürich HB:  46690\n",
      "Number of stops after filtering on distance from Zürich HB:  2122\n"
     ]
    }
   ],
   "source": [
    "# Now we filter based on the distance from Zürich HB\n",
    "lat_Zur = 47.3781762039461\n",
    "lon_Zur = 8.54021154209037\n",
    "# max dist in km\n",
    "max_dist = 15\n",
    "\n",
    "print(\"Number of stops before filtering on distance from Zürich HB: \", len(geostops_df))\n",
    "geostops_df[\"Distance\"] = geostops_df.apply(lambda x: distance(float(x[\"lat\"]), lat_Zur,  float(x[\"lon\"]), lon_Zur), axis=1)\n",
    "geostops_df = geostops_df[geostops_df[\"Distance\"] <= 15]\n",
    "print(\"Number of stops after filtering on distance from Zürich HB: \", len(geostops_df))                          "
   ]
  },
  {
   "cell_type": "code",
   "execution_count": 12,
   "id": "2711636c-7455-4434-b03e-15c179c26af9",
   "metadata": {},
   "outputs": [
    {
     "name": "stdout",
     "output_type": "stream",
     "text": [
      "Number of different id's:  2122\n",
      "Number of different names:  1601\n"
     ]
    }
   ],
   "source": [
    "print(\"Number of different id's: \", geostops_df[\"id\"].nunique())\n",
    "print(\"Number of different names: \", geostops_df[\"name\"].nunique())"
   ]
  },
  {
   "cell_type": "code",
   "execution_count": 13,
   "id": "b4eaeeb8-200c-414d-83d3-16782f92d6a3",
   "metadata": {},
   "outputs": [],
   "source": [
    "# Remove the stops that have a parent\n",
    "geostops_df = geostops_df[~geostops_df['id'].str.contains(\"Parent\")]\n",
    "geostops_df = geostops_df[~geostops_df['id'].str.contains(\":\")]\n",
    "geostops_df = geostops_df[~geostops_df['id'].str.contains(\"P\")]\n",
    "\n",
    "# check if all stops have different coordinates now\n",
    "## what is booleans \n",
    "## num_dist_coordinates = booleans.groupby([\"lat\", \"lon\"]).ngroups\n",
    "num_dist_coordinates = geostops_df.groupby([\"lat\", \"lon\"]).ngroups\n",
    "assert(len(geostops_df) == num_dist_coordinates)\n",
    "\n",
    "# check if all names are distinct\n",
    "assert(geostops_df[\"name\"].nunique() == num_dist_coordinates)"
   ]
  },
  {
   "cell_type": "code",
   "execution_count": 14,
   "id": "74261442-07d6-43c9-a7da-1c320029476e",
   "metadata": {},
   "outputs": [
    {
     "data": {
      "text/html": [
       "<div>\n",
       "<style scoped>\n",
       "    .dataframe tbody tr th:only-of-type {\n",
       "        vertical-align: middle;\n",
       "    }\n",
       "\n",
       "    .dataframe tbody tr th {\n",
       "        vertical-align: top;\n",
       "    }\n",
       "\n",
       "    .dataframe thead th {\n",
       "        text-align: right;\n",
       "    }\n",
       "</style>\n",
       "<table border=\"1\" class=\"dataframe\">\n",
       "  <thead>\n",
       "    <tr style=\"text-align: right;\">\n",
       "      <th></th>\n",
       "      <th>id</th>\n",
       "      <th>name</th>\n",
       "      <th>lat</th>\n",
       "      <th>lon</th>\n",
       "      <th>Distance</th>\n",
       "    </tr>\n",
       "  </thead>\n",
       "  <tbody>\n",
       "    <tr>\n",
       "      <th>7896</th>\n",
       "      <td>176</td>\n",
       "      <td>Zimmerberg-Basistunnel</td>\n",
       "      <td>47.351677</td>\n",
       "      <td>8.521957</td>\n",
       "      <td>3.251541</td>\n",
       "    </tr>\n",
       "    <tr>\n",
       "      <th>10878</th>\n",
       "      <td>8500926</td>\n",
       "      <td>Oetwil a.d.L., Schweizäcker</td>\n",
       "      <td>47.423626</td>\n",
       "      <td>8.403183</td>\n",
       "      <td>11.484985</td>\n",
       "    </tr>\n",
       "    <tr>\n",
       "      <th>12363</th>\n",
       "      <td>8502075</td>\n",
       "      <td>Zürich Flughafen, Carterminal</td>\n",
       "      <td>47.451023</td>\n",
       "      <td>8.563729</td>\n",
       "      <td>8.291228</td>\n",
       "    </tr>\n",
       "    <tr>\n",
       "      <th>12534</th>\n",
       "      <td>8502186</td>\n",
       "      <td>Dietikon Stoffelbach</td>\n",
       "      <td>47.393326</td>\n",
       "      <td>8.398960</td>\n",
       "      <td>10.766797</td>\n",
       "    </tr>\n",
       "    <tr>\n",
       "      <th>12538</th>\n",
       "      <td>8502187</td>\n",
       "      <td>Rudolfstetten Hofacker</td>\n",
       "      <td>47.364670</td>\n",
       "      <td>8.376952</td>\n",
       "      <td>12.385806</td>\n",
       "    </tr>\n",
       "  </tbody>\n",
       "</table>\n",
       "</div>"
      ],
      "text/plain": [
       "            id                           name        lat       lon   Distance\n",
       "7896       176         Zimmerberg-Basistunnel  47.351677  8.521957   3.251541\n",
       "10878  8500926    Oetwil a.d.L., Schweizäcker  47.423626  8.403183  11.484985\n",
       "12363  8502075  Zürich Flughafen, Carterminal  47.451023  8.563729   8.291228\n",
       "12534  8502186           Dietikon Stoffelbach  47.393326  8.398960  10.766797\n",
       "12538  8502187         Rudolfstetten Hofacker  47.364670  8.376952  12.385806"
      ]
     },
     "execution_count": 14,
     "metadata": {},
     "output_type": "execute_result"
    }
   ],
   "source": [
    "geostops_df.head()"
   ]
  },
  {
   "cell_type": "markdown",
   "id": "9bbf0af8-2763-443a-a86a-ea36641233ea",
   "metadata": {},
   "source": [
    "### Walking\n",
    "Create a dictionary that for each stop contains all other stops that are reachable by foot (< 0.5 km)"
   ]
  },
  {
   "cell_type": "code",
   "execution_count": 15,
   "id": "79e232d5-419d-428e-aab4-f4a2a763da45",
   "metadata": {},
   "outputs": [
    {
     "ename": "NameError",
     "evalue": "name 'stops_dict' is not defined",
     "output_type": "error",
     "traceback": [
      "\u001b[0;31m---------------------------------------------------------------------------\u001b[0m",
      "\u001b[0;31mNameError\u001b[0m                                 Traceback (most recent call last)",
      "Input \u001b[0;32mIn [15]\u001b[0m, in \u001b[0;36m<cell line: 5>\u001b[0;34m()\u001b[0m\n\u001b[1;32m      5\u001b[0m \u001b[38;5;28;01mfor\u001b[39;00m stop \u001b[38;5;129;01min\u001b[39;00m all_names:\n\u001b[1;32m      6\u001b[0m     within_walking_distance[stop] \u001b[38;5;241m=\u001b[39m \u001b[38;5;28mset\u001b[39m()\n\u001b[0;32m----> 7\u001b[0m     stop_data \u001b[38;5;241m=\u001b[39m \u001b[43mstops_dict\u001b[49m[stop]\n\u001b[1;32m      8\u001b[0m     lat, lon \u001b[38;5;241m=\u001b[39m \u001b[38;5;28mfloat\u001b[39m(stop_data[\u001b[38;5;124m\"\u001b[39m\u001b[38;5;124mlat\u001b[39m\u001b[38;5;124m\"\u001b[39m]), \u001b[38;5;28mfloat\u001b[39m(stop_data[\u001b[38;5;124m\"\u001b[39m\u001b[38;5;124mlon\u001b[39m\u001b[38;5;124m\"\u001b[39m])\n\u001b[1;32m      9\u001b[0m     reachable \u001b[38;5;241m=\u001b[39m []\n",
      "\u001b[0;31mNameError\u001b[0m: name 'stops_dict' is not defined"
     ]
    }
   ],
   "source": [
    "within_walking_distance = {}\n",
    "import copy\n",
    "max_dist = 0.5\n",
    "all_names = set(geostops_df[\"name\"].unique())\n",
    "for stop in all_names:\n",
    "    within_walking_distance[stop] = set()\n",
    "    stop_data = stops_dict[stop]\n",
    "    lat, lon = float(stop_data[\"lat\"]), float(stop_data[\"lon\"])\n",
    "    reachable = []\n",
    "    all_others = copy.deepcopy(all_names)\n",
    "    all_others.remove(stop)\n",
    "    for other in all_others:\n",
    "        other_stop_data = stops_dict[other]\n",
    "        lat_oth, lon_oth = float(other_stop_data[\"lat\"]), float(other_stop_data[\"lon\"])\n",
    "        dist = distance(lat, lat_oth, lon, lon_oth)\n",
    "        if dist < max_dist:\n",
    "            within_walking_distance[stop].add(other)\n",
    "    "
   ]
  },
  {
   "cell_type": "markdown",
   "id": "b1252b8a-934a-4af9-b539-7682d4b95cea",
   "metadata": {},
   "source": [
    "### Timetable data (calendar, trips, routes & stop_times)"
   ]
  },
  {
   "cell_type": "code",
   "execution_count": 16,
   "id": "eac7bd86-f9eb-4062-9760-5c304595f2e2",
   "metadata": {},
   "outputs": [
    {
     "data": {
      "application/vnd.jupyter.widget-view+json": {
       "model_id": "",
       "version_major": 2,
       "version_minor": 0
      },
      "text/plain": [
       "FloatProgress(value=0.0, bar_style='info', description='Progress:', layout=Layout(height='25px', width='50%'),…"
      ]
     },
     "metadata": {},
     "output_type": "display_data"
    },
    {
     "name": "stdout",
     "output_type": "stream",
     "text": [
      "+----------+------+-------+---------+--------+------+--------+------+----------+--------+----+-----+---+\n",
      "|service_id|monday|tuesday|wednesday|thursday|friday|saturday|sunday|start_date|end_date|year|month|day|\n",
      "+----------+------+-------+---------+--------+------+--------+------+----------+--------+----+-----+---+\n",
      "|        TA|     1|      1|        1|       0|     0|       0|     1|  20221211|20221214|2022|   12|  7|\n",
      "|      TA#1|     1|      1|        1|       1|     1|       1|     1|  20211212|20221210|2022|   12|  7|\n",
      "|  TA+00000|     0|      0|        0|       0|     0|       1|     0|  20211212|20221210|2022|   12|  7|\n",
      "|  TA+00010|     1|      1|        1|       0|     0|       0|     1|  20211212|20221210|2022|   12|  7|\n",
      "|  TA+001c0|     1|      1|        1|       1|     1|       0|     0|  20211212|20221210|2022|   12|  7|\n",
      "+----------+------+-------+---------+--------+------+--------+------+----------+--------+----+-----+---+\n",
      "only showing top 5 rows"
     ]
    }
   ],
   "source": [
    "%%spark\n",
    "# Calendar data\n",
    "calendar = spark.read.csv(\"/data/sbb/part_csv/timetables/calendar\", header=True, encoding='utf8')\n",
    "calendar.show(5)"
   ]
  },
  {
   "cell_type": "code",
   "execution_count": 17,
   "id": "e1d549ce-dbab-401c-834f-a937a8898c7d",
   "metadata": {},
   "outputs": [
    {
     "data": {
      "application/vnd.jupyter.widget-view+json": {
       "model_id": "",
       "version_major": 2,
       "version_minor": 0
      },
      "text/plain": [
       "FloatProgress(value=0.0, bar_style='info', description='Progress:', layout=Layout(height='25px', width='50%'),…"
      ]
     },
     "metadata": {},
     "output_type": "display_data"
    },
    {
     "name": "stdout",
     "output_type": "stream",
     "text": [
      "+-------------+----------+--------------------+--------------------+---------------+------------+----+-----+---+\n",
      "|     route_id|service_id|             trip_id|       trip_headsign|trip_short_name|direction_id|year|month|day|\n",
      "+-------------+----------+--------------------+--------------------+---------------+------------+----+-----+---+\n",
      "|91-10-A-j22-1|     TA+6V|1.TA.91-10-A-j22-...|Oberwil BL, Hüsli...|          21313|           0|2022|   10| 12|\n",
      "|91-10-A-j22-1|  TA+ndka0|10.TA.91-10-A-j22...|Oberwil BL, Hüsli...|          24673|           0|2022|   10| 12|\n",
      "|91-10-A-j22-1|  TA+bh200|100.TA.91-10-A-j2...|Oberwil BL, Hüsli...|          21461|           0|2022|   10| 12|\n",
      "|91-10-A-j22-1|     TA+rV|1000.TA.91-10-A-j...|    Dornach, Bahnhof|          51219|           0|2022|   10| 12|\n",
      "|91-10-A-j22-1|     TA+rV|1001.TA.91-10-A-j...|    Dornach, Bahnhof|          51723|           0|2022|   10| 12|\n",
      "+-------------+----------+--------------------+--------------------+---------------+------------+----+-----+---+\n",
      "only showing top 5 rows"
     ]
    }
   ],
   "source": [
    "%%spark\n",
    "# Trip data\n",
    "trips = spark.read.csv(\"/data/sbb/part_csv/timetables/trips\", header=True, encoding='utf8')\n",
    "trips.show(5)"
   ]
  },
  {
   "cell_type": "code",
   "execution_count": 18,
   "id": "6b996ac9-2eca-46de-9958-faa48fee2bbc",
   "metadata": {},
   "outputs": [
    {
     "data": {
      "application/vnd.jupyter.widget-view+json": {
       "model_id": "",
       "version_major": 2,
       "version_minor": 0
      },
      "text/plain": [
       "FloatProgress(value=0.0, bar_style='info', description='Progress:', layout=Layout(height='25px', width='50%'),…"
      ]
     },
     "metadata": {},
     "output_type": "display_data"
    },
    {
     "name": "stdout",
     "output_type": "stream",
     "text": [
      "+-------------+---------+----------------+---------------+----------+----------+----+-----+---+\n",
      "|     route_id|agency_id|route_short_name|route_long_name|route_desc|route_type|year|month|day|\n",
      "+-------------+---------+----------------+---------------+----------+----------+----+-----+---+\n",
      "|91-10-A-j22-1|       37|              10|           null|         T|       900|2022|   12|  7|\n",
      "|91-10-A-j23-1|       78|             S10|           null|         S|       109|2022|   12|  7|\n",
      "|91-10-B-j22-1|       78|             S10|           null|         S|       109|2022|   12|  7|\n",
      "|91-10-B-j23-1|       11|             S10|           null|         S|       109|2022|   12|  7|\n",
      "|91-10-C-j22-1|       11|             S10|           null|         S|       109|2022|   12|  7|\n",
      "+-------------+---------+----------------+---------------+----------+----------+----+-----+---+\n",
      "only showing top 5 rows"
     ]
    }
   ],
   "source": [
    "%%spark\n",
    "# Routes data\n",
    "routes = spark.read.csv(\"/data/sbb/part_csv/timetables/routes\", header=True, encoding='utf8')\n",
    "routes.show(5)"
   ]
  },
  {
   "cell_type": "code",
   "execution_count": 19,
   "id": "5c1a78bd-92d7-4fbe-a613-d27e033c35af",
   "metadata": {},
   "outputs": [
    {
     "data": {
      "application/vnd.jupyter.widget-view+json": {
       "model_id": "",
       "version_major": 2,
       "version_minor": 0
      },
      "text/plain": [
       "FloatProgress(value=0.0, bar_style='info', description='Progress:', layout=Layout(height='25px', width='50%'),…"
      ]
     },
     "metadata": {},
     "output_type": "display_data"
    },
    {
     "name": "stdout",
     "output_type": "stream",
     "text": [
      "+-------------------+------------+--------------+-------+-------------+-----------+-------------+----+-----+---+\n",
      "|            trip_id|arrival_time|departure_time|stop_id|stop_sequence|pickup_type|drop_off_type|year|month|day|\n",
      "+-------------------+------------+--------------+-------+-------------+-----------+-------------+----+-----+---+\n",
      "|1.TA.91-8-j22-1.1.H|    24:40:00|      24:40:00|8591178|            1|          0|            0|2022|    6| 29|\n",
      "|1.TA.91-8-j22-1.1.H|    24:41:00|      24:41:00|8591074|            2|          0|            0|2022|    6| 29|\n",
      "|1.TA.91-8-j22-1.1.H|    24:42:00|      24:42:00|8591131|            3|          0|            0|2022|    6| 29|\n",
      "|1.TA.91-8-j22-1.1.H|    24:43:00|      24:43:00|8591135|            4|          0|            0|2022|    6| 29|\n",
      "|1.TA.91-8-j22-1.1.H|    24:44:00|      24:44:00|8580522|            5|          0|            0|2022|    6| 29|\n",
      "+-------------------+------------+--------------+-------+-------------+-----------+-------------+----+-----+---+\n",
      "only showing top 5 rows"
     ]
    }
   ],
   "source": [
    "%%spark\n",
    "# Routes data\n",
    "stop_times = spark.read.csv(\"/data/sbb/part_csv/timetables/stop_times\", header=True, encoding='utf8')\n",
    "stop_times.show(5)"
   ]
  },
  {
   "cell_type": "code",
   "execution_count": 20,
   "id": "e52da4eb-9bae-4d2b-9ca1-d20553e5a954",
   "metadata": {},
   "outputs": [
    {
     "data": {
      "application/vnd.jupyter.widget-view+json": {
       "model_id": "",
       "version_major": 2,
       "version_minor": 0
      },
      "text/plain": [
       "FloatProgress(value=0.0, bar_style='info', description='Progress:', layout=Layout(height='25px', width='50%'),…"
      ]
     },
     "metadata": {},
     "output_type": "display_data"
    },
    {
     "name": "stdout",
     "output_type": "stream",
     "text": [
      "+-------+--------------------+----------------+----------------+-------------+--------------+----+-----+---+\n",
      "|stop_id|           stop_name|        stop_lat|        stop_lon|location_type|parent_station|year|month|day|\n",
      "+-------+--------------------+----------------+----------------+-------------+--------------+----+-----+---+\n",
      "|1100008|Zell (Wiesental),...|47.7100842702352|7.85964788274668|         null|          null|2022|   12|  7|\n",
      "|1100009|Zell (Wiesental),...|47.7131911044794|7.86290876722849|         null|          null|2022|   12|  7|\n",
      "|1100010|           Atzenbach|47.7146175266411| 7.8723500608659|         null|          null|2022|   12|  7|\n",
      "|1100011|     Mambach, Brücke|47.7282088873189| 7.8774704579861|         null|          null|2022|   12|  7|\n",
      "|1100012|  Mambach, Mühlschau|47.7340818684375| 7.8813871126254|         null|          null|2022|   12|  7|\n",
      "+-------+--------------------+----------------+----------------+-------------+--------------+----+-----+---+\n",
      "only showing top 5 rows"
     ]
    }
   ],
   "source": [
    "%%spark\n",
    "# Stops data\n",
    "stops = spark.read.csv(\"/data/sbb/part_csv/timetables/stops\", header=True, encoding='utf8')\n",
    "stops.show(5)"
   ]
  },
  {
   "cell_type": "code",
   "execution_count": 21,
   "id": "ff418266-b2d7-4c86-8509-cb2fbde8db77",
   "metadata": {},
   "outputs": [
    {
     "data": {
      "application/vnd.jupyter.widget-view+json": {
       "model_id": "",
       "version_major": 2,
       "version_minor": 0
      },
      "text/plain": [
       "FloatProgress(value=0.0, bar_style='info', description='Progress:', layout=Layout(height='25px', width='50%'),…"
      ]
     },
     "metadata": {},
     "output_type": "display_data"
    },
    {
     "name": "stdout",
     "output_type": "stream",
     "text": [
      "+--------------------+------------+--------------+-------+--------------------+----------------+----------------+\n",
      "|             TRIP_ID|ARRIVAL_TIME|DEPARTURE_TIME|STOP_ID|           STOP_NAME|        STOP_LAT|        STOP_LON|\n",
      "+--------------------+------------+--------------+-------+--------------------+----------------+----------------+\n",
      "|1.TA.79-730-5-j20...|    08:58:00|      08:58:00|1100150|Schlächtenhaus, S...|47.6898550981112|7.74233688977719|\n",
      "|1.TA.79-730-5-j20...|    08:58:00|      08:58:00|1100150|Schlächtenhaus, S...|47.6898550981112|7.74233688977719|\n",
      "|1.TA.79-730-5-j20...|    08:58:00|      08:58:00|1100150|Schlächtenhaus, S...|47.6898550981112|7.74233688977719|\n",
      "|1.TA.79-730-5-j20...|    08:58:00|      08:58:00|1100150|Schlächtenhaus, S...|47.6898550981112|7.74233688977719|\n",
      "|1.TA.79-730-5-j20...|    08:58:00|      08:58:00|1100150|Schlächtenhaus, S...|47.6898550981112|7.74233688977719|\n",
      "+--------------------+------------+--------------+-------+--------------------+----------------+----------------+\n",
      "only showing top 5 rows"
     ]
    }
   ],
   "source": [
    "%%spark\n",
    "# inner join for the stops and stop_times dfs on the STOP_ID column\n",
    "joined_df = stop_times.join(stops, on=\"STOP_ID\", how=\"inner\")\n",
    "\n",
    "# only select the relevant cols\n",
    "result_df = joined_df.select(\n",
    "    \"TRIP_ID\",\n",
    "    \"ARRIVAL_TIME\",\n",
    "    \"DEPARTURE_TIME\",\n",
    "    \"STOP_ID\",\n",
    "    \"STOP_NAME\",\n",
    "    \"STOP_LAT\",\n",
    "    \"STOP_LON\"\n",
    ")\n",
    "\n",
    "result_df.drop_duplicates()\n",
    "result_df.show(5)"
   ]
  },
  {
   "cell_type": "markdown",
   "id": "da6fb74d-d6b8-4ca3-a505-34791b635603",
   "metadata": {},
   "source": [
    "## Istdaten\n",
    "Load the dataset. Keep only rows from Zürich area and maek sure product ID is not null\n"
   ]
  },
  {
   "cell_type": "code",
   "execution_count": 22,
   "id": "a6f19cd1-2a6f-425a-a385-ace3a3613f6e",
   "metadata": {},
   "outputs": [],
   "source": [
    "####################################################################################\n",
    "########  Only run if you don't have the table yet, takes 2 minutes ################\n",
    "####################################################################################\n",
    "selected_stops = tuple(set(geostops_df[\"name\"].unique().tolist()))\n",
    "\n",
    "query = \"\"\"\n",
    "    drop table if exists {0}.zur_istdaten\n",
    "\"\"\".format(username)\n",
    "\n",
    "cur.execute(query)\n",
    "\n",
    "query = \"\"\"\n",
    "    create external table {0}.zur_istdaten\n",
    "    as\n",
    "    SELECT BETRIEBSTAG as trip_date, FAHRT_BEZICHNER as trip_id, PRODUKT_ID as transport_type, LINIEN_ID as train_number, LINIEN_TEXT as service_type,\n",
    "    VERKEHRSMITTEL_TEXT as verkehrs_mittel, ZUSATZFAHRT_TF as additional_trip, FAELLT_AUS_TF as cancelled_trip, HALTESTELLEN_NAME as stop_name, \n",
    "    unix_timestamp(ANKUNFTSZEIT, 'dd.MM.yyyy HH:mm') as scheduled_ar, unix_timestamp(AN_PROGNOSE,'dd.MM.yyyy hh:mm:ss') as act_ar, \n",
    "    unix_timestamp(ABFAHRTSZEIT, 'dd.MM.yyyy HH:mm') as scheduled_dep, unix_timestamp(AB_PROGNOSE,'dd.MM.yyyy hh:mm:ss') as act_dep,\n",
    "    AN_PROGNOSE_STATUS as measuring_method, DURCHFAHRT_TF as skip_stop\n",
    "    from {0}.sbb_orc\n",
    "    where BETRIEBSTAG like '__.__.____' and PRODUKT_ID is not NULL and PRODUKT_ID <> ''\n",
    "    and HALTESTELLEN_NAME in {1}\n",
    "    \"\"\".format(username, selected_stops)\n",
    "\n",
    "cur.execute(query)"
   ]
  },
  {
   "cell_type": "code",
   "execution_count": 23,
   "id": "764bfaf1-c225-4461-94ca-dcf351ed69b9",
   "metadata": {},
   "outputs": [
    {
     "data": {
      "text/plain": [
       "[('28.12.2022',\n",
       "  '85:882:129321-18101-1',\n",
       "  'Bus',\n",
       "  '85:882:105',\n",
       "  '5',\n",
       "  'B',\n",
       "  'false',\n",
       "  'false',\n",
       "  'Brütten, Harossen',\n",
       "  1672270740,\n",
       "  1672268400,\n",
       "  1672270740,\n",
       "  1672268400,\n",
       "  'REAL',\n",
       "  'false')]"
      ]
     },
     "execution_count": 23,
     "metadata": {},
     "output_type": "execute_result"
    }
   ],
   "source": [
    "query = \"\"\"\n",
    "    select * from {0}.zur_istdaten\n",
    "    limit 1\n",
    "\"\"\".format(username)\n",
    "\n",
    "cur.execute(query)\n",
    "cur.fetchall()"
   ]
  },
  {
   "cell_type": "code",
   "execution_count": 24,
   "id": "02f82044-6404-4565-a5d8-69c708f3ddba",
   "metadata": {},
   "outputs": [
    {
     "name": "stderr",
     "output_type": "stream",
     "text": [
      "UsageError: Line magic function `%%spark` not found.\n"
     ]
    }
   ],
   "source": [
    "## TO BE CORRECTED\n",
    "%%spark\n",
    "\n",
    "complete_zur_istdaten = stop_times.join(zur_istdaten, on=\"STOP_NAME\", how=\"left\")\n",
    "\n",
    "#  Fill missing values in the joined dataframe with values from the stop_times dataframe\n",
    "complete_zur_istdaten = joined_df.select(\n",
    "    coalesce(zur_istdaten.stop_name, result_df.STOP_NAME).alias(\"stop_name\"),\n",
    "    coalesce(zur_istdaten.scheduled_ar, result_df.ARRIVAL_TIME).alias(\"arrival_time\"), # scheduled arrival time\n",
    "    coalesce(zur_istdaten.act_ar, result_df.ARRIVAL_TIME).alias(\"act_ar\"), # real arrival time, assume it is always on time\n",
    "    coalesce(zur_istdaten.scheduled_dep, result_df.DEPARTURE_TIME).alias(\"scheduled_dep\"), #scheduled dep time\n",
    "    coalesce(zur_istdaten.act_dep, result_df.DEPARTURE_TIME).alias(\"scheduled_dep\"), #actual dep time, assume it is on time if its missing\n",
    ")\n",
    "\n",
    "\n"
   ]
  },
  {
   "cell_type": "code",
   "execution_count": null,
   "id": "9e3e4895-f14f-4ac6-949f-7d1bc09077bf",
   "metadata": {},
   "outputs": [],
   "source": [
    "######################################################\n",
    "######   INCOMPLETE CODE! DO NOT RUN! ################\n",
    "######################################################\n",
    "\n",
    "\n",
    "# LEFT JOIN to join on the trip_id column.\n",
    "# COALESCE to choose choose the non-null value for each column between dfs. \n",
    "# If there is a non-null value in real_df, it will be used, otherwise the value from df_timetable will be used.\n",
    "# UNION to append entries of \n",
    "query = \"\"\"\n",
    "    LEFT JOIN df_real ON df_timetable.trip_id = df_real.trip_id\n",
    "    SELECT \n",
    "        COALESCE(df_real.trip_id, df_timetable.trip_id) AS trip_id,\n",
    "        COALESCE(df_real.arrival_time, df_timetable.arrival_time) AS arrival_time,\n",
    "        COALESCE(df_real.departure_time, df_timetable.departure_time) AS departure_time,\n",
    "    \n",
    "    INSERT OVERWRITE TABLE df_real\n",
    "    SELECT \n",
    "        COALESCE(df_real.trip_id, df_timetable.trip_id) AS trip_id,\n",
    "        COALESCE(df_real.arrival_time, df_timetable.arrival_time) AS arrival_time,\n",
    "        COALESCE(df_real.departure_time, df_timetable.departure_time) AS departure_time,\n",
    "    FROM df_timetable\n",
    "    UNION\n",
    "    SELECT * FROM df_real WHERE df_real.trip_id NOT IN (SELECT trip_id FROM df_timetable)\n",
    "\"\"\""
   ]
  },
  {
   "cell_type": "code",
   "execution_count": null,
   "id": "31d00087-5f55-4837-9e69-eef6097e9ad6",
   "metadata": {},
   "outputs": [],
   "source": [
    "# Get delays for arrival, departure\n",
    "# Per stop per trip \n",
    "\n",
    "# Our approach\n",
    "\n",
    "# At query time\n",
    "# Calculate ecdf between two changeovers from all past trips from A to B (ecdf at B for trains/trips that passed through A)\n",
    "# Calculate the delay in the confidence interval\n",
    "# If smller than time to change over, trip is invalid\n",
    "\n",
    "# Possible improvements\n",
    "# IF many stops, how to compose probabilities (the same at each or different depending on distribution of delays)\n",
    "#      Idea: Always take the maximum at each stop\n",
    "\n",
    "# Other notes\n",
    "# Only calculate delays of arrival\n",
    "# Assume train after connection leaves on time, see Q3 in faq of readme\n",
    "\n",
    "# Questions for wednesday\n",
    "# Calculate ecdf based on trip id, or use same service at different hours\n",
    "# How to reconcile service id from calendar.txt to istdaten trip_id"
   ]
  },
  {
   "cell_type": "code",
   "execution_count": null,
   "id": "6f6faa26-3c25-4c52-86f6-797d22fe4e12",
   "metadata": {},
   "outputs": [
    {
     "data": {
      "application/vnd.jupyter.widget-view+json": {
       "model_id": "",
       "version_major": 2,
       "version_minor": 0
      },
      "text/plain": [
       "FloatProgress(value=0.0, bar_style='info', description='Progress:', layout=Layout(height='25px', width='50%'),…"
      ]
     },
     "metadata": {},
     "output_type": "display_data"
    }
   ],
   "source": [
    "%%spark\n",
    "df = spark.sql(\"select * from {0}.zur_istdaten\".format(\"digennar\"))"
   ]
  },
  {
   "cell_type": "code",
   "execution_count": 26,
   "id": "fcf3d137-44b5-4b6b-a312-f9a4ee7d2210",
   "metadata": {},
   "outputs": [
    {
     "data": {
      "application/vnd.jupyter.widget-view+json": {
       "model_id": "",
       "version_major": 2,
       "version_minor": 0
      },
      "text/plain": [
       "FloatProgress(value=0.0, bar_style='info', description='Progress:', layout=Layout(height='25px', width='50%'),…"
      ]
     },
     "metadata": {},
     "output_type": "display_data"
    }
   ],
   "source": [
    "%%spark\n",
    "\n",
    "# df is complete_zur_istdaten\n",
    "\n",
    "def get_ecdf(df, service_id, start_station, end_station):\n",
    "    # ecdf at end for trains/trips that passed through start\n",
    "    \n",
    "    #print(\"Number of entries in zur_istdaten: \" + str(df.count()))\n",
    "    \n",
    "    # Get trains with a given service id\n",
    "    df_service = df.filter(df.train_number == service_id) # Should this be trip id?\n",
    "    \n",
    "    #print(\"Number of entries for service id: \" + str(df_service.count()))\n",
    "    \n",
    "    # Get trips that pass through end\n",
    "    #df_trips = df.filter(df_service.stop_name == end_station) # We should also make sure it passes through start (except if we consider a given service id always go through start if it goes through end)\n",
    "    #df_ids = df.groupby(\"trip_id\")\n",
    "    \n",
    "    #print(\"Number of entries that go through end station: \" + str(df_trips.count()))\n",
    "    \n",
    "    # Make sure each id is for a train that passed through A and B\n",
    "    #assert df_trips.count() == 2 * df_ids.count()\n",
    "    \n",
    "    # Calculate all observed delays at end\n",
    "    df_delays = df_service.withColumn(\"obs_delay\", df_service.act_ar - df_service.scheduled_ar)\n",
    "    df_delays = df_delays.select(df_delays.obs_delay)\n",
    "    df_delays = df_delays.na.fill(0) # If missing values consider that the train was on time\n",
    "    \n",
    "    # Get ecdf from observed delays (as of now, list of delays in ascending order)\n",
    "    return df_delays.orderBy(\"obs_delay\")\n",
    "\n",
    "df_example = get_ecdf(df, \"85:882:105\", \"Brütten, Harossen\", \"Brütten, Zentrum\")"
   ]
  },
  {
   "cell_type": "code",
   "execution_count": 27,
   "id": "0b6a8caa-fc49-4831-b594-021a06e7aa63",
   "metadata": {},
   "outputs": [
    {
     "data": {
      "application/vnd.jupyter.widget-view+json": {
       "model_id": "",
       "version_major": 2,
       "version_minor": 0
      },
      "text/plain": [
       "FloatProgress(value=0.0, bar_style='info', description='Progress:', layout=Layout(height='25px', width='50%'),…"
      ]
     },
     "metadata": {},
     "output_type": "display_data"
    },
    {
     "name": "stdout",
     "output_type": "stream",
     "text": [
      "+---------+\n",
      "|obs_delay|\n",
      "+---------+\n",
      "|    -2460|\n",
      "|    -2460|\n",
      "|    -2460|\n",
      "|    -2460|\n",
      "|    -2460|\n",
      "|    -2460|\n",
      "|    -2460|\n",
      "|    -2460|\n",
      "|    -2460|\n",
      "|    -2460|\n",
      "+---------+\n",
      "only showing top 10 rows"
     ]
    }
   ],
   "source": [
    "%%spark\n",
    "\n",
    "df_example.show(10)"
   ]
  },
  {
   "cell_type": "code",
   "execution_count": null,
   "id": "de80402e-eeda-42ac-9c5a-89f044758807",
   "metadata": {},
   "outputs": [],
   "source": [
    "# All past trips that go to B and pass by A for a given service id\n",
    "\n",
    "# What do we need from part 1\n",
    "# Istdaten with filled values of scheduled and actual arrival (we don't care about departure so much)\n",
    "\n",
    "\n",
    "# What do we need from part 2\n",
    "# List of given trips ids from A to B, B to C and so on until destinations (feasible from timetable)\n",
    "\n",
    "# Biggest challenge for part 3\n",
    "# Linking the given trip ids to a service to calculate delays from A to B."
   ]
  },
  {
   "cell_type": "code",
   "execution_count": 28,
   "id": "55bf3c76-ea83-4f27-a16e-2c87d07a50e0",
   "metadata": {},
   "outputs": [],
   "source": [
    "%spark cleanup"
   ]
  },
  {
   "cell_type": "code",
   "execution_count": null,
   "id": "99895063-a877-4e06-8a46-61a6d39dc52b",
   "metadata": {},
   "outputs": [],
   "source": []
  }
 ],
 "metadata": {
  "kernelspec": {
   "display_name": "Python 3 (ipykernel)",
   "language": "python",
   "name": "python3"
  },
  "language_info": {
   "codemirror_mode": {
    "name": "ipython",
    "version": 3
   },
   "file_extension": ".py",
   "mimetype": "text/x-python",
   "name": "python",
   "nbconvert_exporter": "python",
   "pygments_lexer": "ipython3",
   "version": "3.9.12"
  }
 },
 "nbformat": 4,
 "nbformat_minor": 5
}
