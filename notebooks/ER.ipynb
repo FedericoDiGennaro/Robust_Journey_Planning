{
 "cells": [
  {
   "cell_type": "markdown",
   "id": "201b6c8f-dccd-4c93-8fe6-3804cfb6f0ae",
   "metadata": {},
   "source": [
    "# Efficient Route Planning algorithm"
   ]
  },
  {
   "cell_type": "markdown",
   "id": "2f147837-7684-4435-b34b-c8e49224c9b1",
   "metadata": {},
   "source": [
    "Importing useful libraries"
   ]
  },
  {
   "cell_type": "code",
   "execution_count": 27,
   "id": "b50da8f4-a059-40e4-8480-c0bcd8563a93",
   "metadata": {},
   "outputs": [],
   "source": [
    "import os\n",
    "import math\n",
    "import datetime\n",
    "import pandas as pd\n",
    "import numpy as np\n",
    "pd.set_option(\"display.max_columns\", 50)\n",
    "\n",
    "import matplotlib.pyplot as plt\n",
    "%matplotlib inline\n",
    "                                                                                                \n",
    "import plotly.express as px\n",
    "import plotly.graph_objects as go\n",
    "\n",
    "import warnings\n",
    "warnings.filterwarnings(\"ignore\")"
   ]
  },
  {
   "cell_type": "code",
   "execution_count": 28,
   "id": "be1d7b16-efb2-46dd-9062-746370294a77",
   "metadata": {},
   "outputs": [
    {
     "name": "stdout",
     "output_type": "stream",
     "text": [
      "The sparkmagic.magics extension is already loaded. To reload it, use:\n",
      "  %reload_ext sparkmagic.magics\n"
     ]
    }
   ],
   "source": [
    "%load_ext sparkmagic.magics"
   ]
  },
  {
   "cell_type": "code",
   "execution_count": 29,
   "id": "4248e172-ae71-4a5f-bca3-c826eef587cb",
   "metadata": {},
   "outputs": [],
   "source": [
    "%spark cleanup"
   ]
  },
  {
   "cell_type": "markdown",
   "id": "7c471a88-682c-4eb1-a7fd-776b4c8d4126",
   "metadata": {},
   "source": [
    "Setting up the Hive environment"
   ]
  },
  {
   "cell_type": "code",
   "execution_count": 30,
   "id": "362898ee-3b38-473c-9541-83a64c5c0a2c",
   "metadata": {},
   "outputs": [],
   "source": [
    "import os\n",
    "from IPython import get_ipython\n",
    "username = os.environ['RENKU_USERNAME']\n",
    "server = \"http://iccluster044.iccluster.epfl.ch:8998\"\n",
    "\n",
    "# set the application name as \"<your_gaspar_id>-homework3\"\n",
    "get_ipython().run_cell_magic(\n",
    "    'spark',\n",
    "    line='config', \n",
    "    cell=\"\"\"{{ \"name\": \"{0}-ER\", \"executorMemory\": \"4G\", \"executorCores\": 4, \"numExecutors\": 10, \"driverMemory\": \"4G\" }}\"\"\".format(username)\n",
    ")"
   ]
  },
  {
   "cell_type": "markdown",
   "id": "c0ef1dc8-d52f-46a1-b40b-cd5f339209ab",
   "metadata": {},
   "source": [
    "Connecting to the cluster on Spark"
   ]
  },
  {
   "cell_type": "code",
   "execution_count": 31,
   "id": "453ed81d-abb5-472c-a5d1-f8774d602620",
   "metadata": {},
   "outputs": [
    {
     "name": "stdout",
     "output_type": "stream",
     "text": [
      "Starting Spark application\n"
     ]
    },
    {
     "data": {
      "text/html": [
       "<table>\n",
       "<tr><th>ID</th><th>YARN Application ID</th><th>Kind</th><th>State</th><th>Spark UI</th><th>Driver log</th><th>User</th><th>Current session?</th></tr><tr><td>6980</td><td>application_1680948035106_6392</td><td>pyspark</td><td>idle</td><td><a target=\"_blank\" href=\"http://iccluster044.iccluster.epfl.ch:8088/proxy/application_1680948035106_6392/\">Link</a></td><td><a target=\"_blank\" href=\"http://iccluster063.iccluster.epfl.ch:8042/node/containerlogs/container_e01_1680948035106_6392_01_000001/ebouille\">Link</a></td><td>None</td><td>✔</td></tr></table>"
      ],
      "text/plain": [
       "<IPython.core.display.HTML object>"
      ]
     },
     "metadata": {},
     "output_type": "display_data"
    },
    {
     "data": {
      "application/vnd.jupyter.widget-view+json": {
       "model_id": "",
       "version_major": 2,
       "version_minor": 0
      },
      "text/plain": [
       "FloatProgress(value=0.0, bar_style='info', description='Progress:', layout=Layout(height='25px', width='50%'),…"
      ]
     },
     "metadata": {},
     "output_type": "display_data"
    },
    {
     "name": "stdout",
     "output_type": "stream",
     "text": [
      "SparkSession available as 'spark'.\n"
     ]
    }
   ],
   "source": [
    "get_ipython().run_line_magic(\n",
    "    \"spark\", f\"\"\"add -s {username}-finalproject-1 -l python -u {server} -k\"\"\"\n",
    ") "
   ]
  },
  {
   "cell_type": "markdown",
   "id": "7967d98e-63d7-4c53-831d-94dfb4f3ab90",
   "metadata": {},
   "source": [
    "Importing useful libraries on Spark as well"
   ]
  },
  {
   "cell_type": "code",
   "execution_count": 32,
   "id": "e1505508-f46f-4fcc-9e76-5681d707941c",
   "metadata": {},
   "outputs": [
    {
     "data": {
      "application/vnd.jupyter.widget-view+json": {
       "model_id": "",
       "version_major": 2,
       "version_minor": 0
      },
      "text/plain": [
       "FloatProgress(value=0.0, bar_style='info', description='Progress:', layout=Layout(height='25px', width='50%'),…"
      ]
     },
     "metadata": {},
     "output_type": "display_data"
    }
   ],
   "source": [
    "%%spark\n",
    "import math\n",
    "import numpy as np\n",
    "import pyspark.sql.functions as SFunc\n",
    "import pyspark.sql.functions as F\n",
    "from pyspark.sql import Window\n",
    "import matplotlib.pyplot as plt\n",
    "from datetime import datetime\n",
    "import time"
   ]
  },
  {
   "cell_type": "markdown",
   "id": "a00b9f27-20a1-465e-8f31-37b553f53cc7",
   "metadata": {},
   "source": [
    "### Define the day and time of desired arrival with the desired confidence "
   ]
  },
  {
   "cell_type": "code",
   "execution_count": 33,
   "id": "f2f27b2e-9af9-445a-a80a-574ed42bb35c",
   "metadata": {},
   "outputs": [
    {
     "data": {
      "application/vnd.jupyter.widget-view+json": {
       "model_id": "",
       "version_major": 2,
       "version_minor": 0
      },
      "text/plain": [
       "FloatProgress(value=0.0, bar_style='info', description='Progress:', layout=Layout(height='25px', width='50%'),…"
      ]
     },
     "metadata": {},
     "output_type": "display_data"
    }
   ],
   "source": [
    "%%spark \n",
    "\n",
    "day = 'tuesday'\n",
    "arrival_time = '18:00:00'\n",
    "conf_int = 0.8"
   ]
  },
  {
   "cell_type": "markdown",
   "id": "9e804037-d597-4a6d-a8ed-ee79b92454d1",
   "metadata": {},
   "source": [
    "### Creating table containing stops close to Zurich HB (radius 15 km)"
   ]
  },
  {
   "cell_type": "markdown",
   "id": "433de009-b03a-4ccf-b103-ee571bdba27b",
   "metadata": {},
   "source": [
    "As computed in data_preparation, we have the floowing data for Zurich HB:\n",
    "\n",
    "- lat_Zur = 47.378178\n",
    "- lon_Zur = 8.540212\n",
    "\n",
    "We will use a computation similar to the one in data_preparation"
   ]
  },
  {
   "cell_type": "code",
   "execution_count": 34,
   "id": "8b1b8a89-53db-4ac1-9612-528031ef1a0b",
   "metadata": {},
   "outputs": [
    {
     "data": {
      "application/vnd.jupyter.widget-view+json": {
       "model_id": "",
       "version_major": 2,
       "version_minor": 0
      },
      "text/plain": [
       "FloatProgress(value=0.0, bar_style='info', description='Progress:', layout=Layout(height='25px', width='50%'),…"
      ]
     },
     "metadata": {},
     "output_type": "display_data"
    }
   ],
   "source": [
    "%%spark\n",
    "circ = 40075.0\n",
    "\n",
    "@SFunc.udf\n",
    "def distance(lat1, lon1, lat2=47.378177, lon2=8.540192, circ=circ):\n",
    "    \"\"\"\n",
    "    Compute the distance of two stop stations based on their latitude and longitude.\n",
    "    \"\"\"\n",
    "    km_per_degree_lat = circ / 360.0\n",
    "    km_per_degree_lon = math.cos(math.pi * lat2 / 180.0) * km_per_degree_lat\n",
    "    dx = abs(lon2 - lon1) * km_per_degree_lon\n",
    "    dy = abs(lat2 - lat1) * km_per_degree_lat\n",
    "    return math.sqrt(dx*dx + dy*dy)\n"
   ]
  },
  {
   "cell_type": "markdown",
   "id": "4f63947d-5865-498e-acee-679a3a73c082",
   "metadata": {},
   "source": [
    "We now load the dataset containing information containing all the stops in Switzerland and we keep only those whithin a radius of 15 Kms from Zurich HB (Central Sation in Zurich)."
   ]
  },
  {
   "cell_type": "code",
   "execution_count": 36,
   "id": "b4ca27a6-f2af-49fa-8b2d-d38486395f48",
   "metadata": {},
   "outputs": [
    {
     "data": {
      "application/vnd.jupyter.widget-view+json": {
       "model_id": "",
       "version_major": 2,
       "version_minor": 0
      },
      "text/plain": [
       "FloatProgress(value=0.0, bar_style='info', description='Progress:', layout=Layout(height='25px', width='50%'),…"
      ]
     },
     "metadata": {},
     "output_type": "display_data"
    },
    {
     "name": "stdout",
     "output_type": "stream",
     "text": [
      "+---------+--------------------+----------------+----------------+------------------+\n",
      "|  stop_id|           stop_name|        stop_lat|        stop_lon|          distance|\n",
      "+---------+--------------------+----------------+----------------+------------------+\n",
      "|      176|Zimmerberg-Basist...|47.3516780901371|8.52195777551452| 3.254358795054443|\n",
      "|  8500926|Oetwil a.d.L., Sc...|47.4236270123012| 8.4031825286317|11.500566308438826|\n",
      "|  8502075|Zürich Flughafen,...|47.4510244676285|8.56372943623189| 8.301169459254064|\n",
      "|  8502186|Dietikon Stoffelbach|47.3933267759652|8.39896044679575|10.778877635541626|\n",
      "|8502186:0|Dietikon Stoffelbach|47.3933997509195|8.39894248049007|10.781489106921216|\n",
      "+---------+--------------------+----------------+----------------+------------------+\n",
      "only showing top 5 rows"
     ]
    },
    {
     "data": {
      "application/vnd.jupyter.widget-view+json": {
       "model_id": "",
       "version_major": 2,
       "version_minor": 0
      },
      "text/plain": [
       "FloatProgress(value=0.0, bar_style='info', description='Progress:', layout=Layout(height='25px', width='50%'),…"
      ]
     },
     "metadata": {},
     "output_type": "display_data"
    }
   ],
   "source": [
    "%%spark -o stops_in_zurich\n",
    "\n",
    "max_dist=15.0\n",
    "\n",
    "stops_in_zurich = spark.read.orc(\"/data/sbb/orc/allstops\")\n",
    "stops_in_zurich = stops_in_zurich.withColumn('distance', distance(stops_in_zurich['stop_lat'], stops_in_zurich['stop_lon'])).filter(SFunc.col('distance') <= max_dist)\n",
    "stops_in_zurich = stops_in_zurich.drop('location_type', 'parent_station')\n",
    "\n",
    "# we now extract station id and name that will be used in later computations and filtering.\n",
    "ids_in_zurich = set([str(stop.stop_id) for stop in stops_in_zurich.select('stop_id').collect()])\n",
    "names_in_zurich = set([str(stop.stop_name) for stop in stops_in_zurich.select('stop_name').collect()])\n",
    "stops_in_zurich.show(5)"
   ]
  },
  {
   "cell_type": "markdown",
   "id": "96c94c5a-3bed-4e30-a553-4ced62a5aa1f",
   "metadata": {},
   "source": [
    "### Load other tables"
   ]
  },
  {
   "cell_type": "markdown",
   "id": "af427753-cd43-4c09-9349-452e83025eb0",
   "metadata": {},
   "source": [
    "![tables interactions](figs/other_tables.png)"
   ]
  },
  {
   "cell_type": "code",
   "execution_count": 37,
   "id": "a48c57f7-1d74-4a22-bef1-5b9ae9926f7d",
   "metadata": {},
   "outputs": [
    {
     "data": {
      "application/vnd.jupyter.widget-view+json": {
       "model_id": "",
       "version_major": 2,
       "version_minor": 0
      },
      "text/plain": [
       "FloatProgress(value=0.0, bar_style='info', description='Progress:', layout=Layout(height='25px', width='50%'),…"
      ]
     },
     "metadata": {},
     "output_type": "display_data"
    }
   ],
   "source": [
    "%%spark\n",
    "# we filter the calendar to keep only trips available during the selected day\n",
    "calendar = spark.read.csv(\"../../user/bocini/ER/calendar\", header = True, encoding = 'utf8')\n",
    "# remove later:\n",
    "#calendar = calendar.rdd.flatMap(lambda x: x).collect()\n",
    "calendar = calendar.filter(\"{0} == 1\".format(day)).select('service_id')"
   ]
  },
  {
   "cell_type": "code",
   "execution_count": 38,
   "id": "fc4d999c-adc1-4329-b308-2289bc2ac36d",
   "metadata": {},
   "outputs": [
    {
     "data": {
      "application/vnd.jupyter.widget-view+json": {
       "model_id": "",
       "version_major": 2,
       "version_minor": 0
      },
      "text/plain": [
       "FloatProgress(value=0.0, bar_style='info', description='Progress:', layout=Layout(height='25px', width='50%'),…"
      ]
     },
     "metadata": {},
     "output_type": "display_data"
    }
   ],
   "source": [
    "%%spark \n",
    "stops = spark.read.csv(\"../../user/bocini/ER/stops\", header = True, encoding = 'utf8')\n",
    "stops = stops.filter(F.col('stop_id').isin(names_in_zurich)) #select only the stops in zurich\n"
   ]
  },
  {
   "cell_type": "code",
   "execution_count": 39,
   "id": "64282399-a3e0-4525-b0dd-ab8e0f04530f",
   "metadata": {},
   "outputs": [
    {
     "data": {
      "application/vnd.jupyter.widget-view+json": {
       "model_id": "",
       "version_major": 2,
       "version_minor": 0
      },
      "text/plain": [
       "FloatProgress(value=0.0, bar_style='info', description='Progress:', layout=Layout(height='25px', width='50%'),…"
      ]
     },
     "metadata": {},
     "output_type": "display_data"
    }
   ],
   "source": [
    "%%spark \n",
    "trips = spark.read.csv(\"../../user/bocini/ER/trips\", header = True, encoding = 'utf8')"
   ]
  },
  {
   "cell_type": "code",
   "execution_count": 40,
   "id": "18df81f7-6ea1-4df2-a3b3-55d379e11e5e",
   "metadata": {},
   "outputs": [
    {
     "data": {
      "application/vnd.jupyter.widget-view+json": {
       "model_id": "",
       "version_major": 2,
       "version_minor": 0
      },
      "text/plain": [
       "FloatProgress(value=0.0, bar_style='info', description='Progress:', layout=Layout(height='25px', width='50%'),…"
      ]
     },
     "metadata": {},
     "output_type": "display_data"
    }
   ],
   "source": [
    "%%spark\n",
    "routes = spark.read.csv(\"../../user/bocini/ER/routes\", header = True, encoding = 'utf8')"
   ]
  },
  {
   "cell_type": "markdown",
   "id": "466489ea-49bc-44d1-ad2b-5b5bcea0cb2d",
   "metadata": {},
   "source": [
    "We now load all the dat arelated to stations and keep only those close to Zurich and which work during the day defined by the user initially:"
   ]
  },
  {
   "cell_type": "code",
   "execution_count": 41,
   "id": "ca7c0e03-1ee7-447c-9686-57beeff165aa",
   "metadata": {},
   "outputs": [
    {
     "data": {
      "application/vnd.jupyter.widget-view+json": {
       "model_id": "",
       "version_major": 2,
       "version_minor": 0
      },
      "text/plain": [
       "FloatProgress(value=0.0, bar_style='info', description='Progress:', layout=Layout(height='25px', width='50%'),…"
      ]
     },
     "metadata": {},
     "output_type": "display_data"
    },
    {
     "name": "stdout",
     "output_type": "stream",
     "text": [
      "+----------+--------------------+------------+--------------+-----------+-------------+------------+\n",
      "|service_id|             trip_id|arrival_time|departure_time|    stop_id|stop_sequence|    route_id|\n",
      "+----------+--------------------+------------+--------------+-----------+-------------+------------+\n",
      "|  TA+b0nsl|1.TA.26-525-j20-1...|    17:35:00|      17:35:00|    8573260|            6|26-525-j20-1|\n",
      "|  TA+b0nsl|1.TA.26-525-j20-1...|    17:36:00|      17:36:00|    8503782|            7|26-525-j20-1|\n",
      "|  TA+b0nsl|1.TA.26-525-j20-1...|    17:37:00|      17:37:00|    8583831|            8|26-525-j20-1|\n",
      "|  TA+b0nsl|1.TA.26-525-j20-1...|    17:38:00|      17:38:00|    8503871|            9|26-525-j20-1|\n",
      "|  TA+b162b|10.TA.26-705-j20-...|    08:17:00|      08:17:00|8576127:0:D|            1|26-705-j20-1|\n",
      "+----------+--------------------+------------+--------------+-----------+-------------+------------+\n",
      "only showing top 5 rows"
     ]
    }
   ],
   "source": [
    "%%spark \n",
    "stop_times = spark.read.csv(\"../../user/bocini/ER/stop_times\", header = True, encoding = 'utf8')\n",
    "# we only take stops close to Zurich \n",
    "stop_times = stop_times.filter(F.col('stop_id').isin(ids_in_zurich))\n",
    "stop_times = stop_times.join(trips, 'trip_id')\n",
    "stop_times = stop_times.join(calendar, 'service_id')\n",
    "stop_times = stop_times.drop('trip_headsign','trip_short_name', 'direction_id','pickup_type', 'drop_off_type' )\n",
    "stop_times.show(5)"
   ]
  },
  {
   "cell_type": "markdown",
   "id": "a35d5941-0096-448b-a1be-f0fb84c7e930",
   "metadata": {},
   "source": [
    "The provided table containing the transfers time between stations by walking path was not exhaustive and didn't cover some of the stations we are actually interested in. Hence, we created our own transfer table by pairing stations and compute the euclidean distance between them considering their longitude and latitude. We then considered the suggested walking speed and cosider the path as described in the README:"
   ]
  },
  {
   "cell_type": "code",
   "execution_count": 42,
   "id": "6e8ccd95-81c7-411b-9b1d-f60668db1e94",
   "metadata": {
    "tags": []
   },
   "outputs": [
    {
     "data": {
      "application/vnd.jupyter.widget-view+json": {
       "model_id": "",
       "version_major": 2,
       "version_minor": 0
      },
      "text/plain": [
       "FloatProgress(value=0.0, bar_style='info', description='Progress:', layout=Layout(height='25px', width='50%'),…"
      ]
     },
     "metadata": {},
     "output_type": "display_data"
    },
    {
     "data": {
      "application/vnd.jupyter.widget-view+json": {
       "model_id": "",
       "version_major": 2,
       "version_minor": 0
      },
      "text/plain": [
       "FloatProgress(value=0.0, bar_style='info', description='Progress:', layout=Layout(height='25px', width='50%'),…"
      ]
     },
     "metadata": {},
     "output_type": "display_data"
    }
   ],
   "source": [
    "%%spark -q -o transfers\n",
    "\n",
    "# create the foot connections \n",
    "max_foot_distance=0.5 # in km\n",
    "walking_speed_kmPerMin=0.05 # in km/min\n",
    "\n",
    "# determine the duration (in minutes)\n",
    "transfers=stops_in_zurich.alias('l').join(stops_in_zurich.alias('r'))\\\n",
    "                .where('abs(r.distance- l.distance)<{0} and l.stop_id<>r.stop_id'.format(max_foot_distance))\\\n",
    "                .select(F.col('l.stop_id').alias('dep_stop'),\n",
    "                        F.col('r.stop_id').alias('arr_stop'),\n",
    "                        distance(F.col('l.stop_lat'),F.col('l.stop_lon'),F.col('r.stop_lat'),F.col('r.stop_lon')).alias('distance'))\\\n",
    "                .where('distance<{0}'.format(max_foot_distance))\\\n",
    "                .select('dep_stop',\n",
    "                        'arr_stop',\n",
    "                        (F.col('distance')/walking_speed_kmPerMin).alias('dur'))"
   ]
  },
  {
   "cell_type": "markdown",
   "id": "287ef737-3bc4-4429-b82a-43d247bda59b",
   "metadata": {},
   "source": [
    "we only keep srrival times which are before the selected arrival tiume by the user"
   ]
  },
  {
   "cell_type": "code",
   "execution_count": 43,
   "id": "9f019b78-3c5c-4ec6-bb20-f417b25c3002",
   "metadata": {},
   "outputs": [
    {
     "data": {
      "application/vnd.jupyter.widget-view+json": {
       "model_id": "",
       "version_major": 2,
       "version_minor": 0
      },
      "text/plain": [
       "FloatProgress(value=0.0, bar_style='info', description='Progress:', layout=Layout(height='25px', width='50%'),…"
      ]
     },
     "metadata": {},
     "output_type": "display_data"
    },
    {
     "data": {
      "application/vnd.jupyter.widget-view+json": {
       "model_id": "",
       "version_major": 2,
       "version_minor": 0
      },
      "text/plain": [
       "FloatProgress(value=0.0, bar_style='info', description='Progress:', layout=Layout(height='25px', width='50%'),…"
      ]
     },
     "metadata": {},
     "output_type": "display_data"
    }
   ],
   "source": [
    "%%spark -q -o before_hour\n",
    "before_hour = stop_times.filter(\"departure_time < '18:00:00'\")\n",
    "before_hour = before_hour.join(routes, 'route_id')"
   ]
  },
  {
   "cell_type": "markdown",
   "id": "c5dc45b0-46ed-4897-9d1b-0cfe172926fa",
   "metadata": {},
   "source": [
    "# Create a 'mapping' between service_id and trip_id\n",
    "\n",
    "Now in stop_times we have all the stops in Zurich planned on day selected by the user (Tuesday in our case), with both the trip_id and the service_id, useful later for getting a bridge between output of CSA and historical data needed for ECDF."
   ]
  },
  {
   "cell_type": "code",
   "execution_count": 44,
   "id": "bb7c7a5d-d42d-43aa-b0bd-2d13fbd4d024",
   "metadata": {},
   "outputs": [
    {
     "data": {
      "application/vnd.jupyter.widget-view+json": {
       "model_id": "",
       "version_major": 2,
       "version_minor": 0
      },
      "text/plain": [
       "FloatProgress(value=0.0, bar_style='info', description='Progress:', layout=Layout(height='25px', width='50%'),…"
      ]
     },
     "metadata": {},
     "output_type": "display_data"
    },
    {
     "name": "stdout",
     "output_type": "stream",
     "text": [
      "DataFrame[TRIP_ID: string, ARRIVAL_TIME: string, DEPARTURE_TIME: string, STOP_ID: string, STOP_NAME: string]"
     ]
    }
   ],
   "source": [
    "%%spark\n",
    "# Inner join for the stops and stop_times dfs on the STOP_ID column\n",
    "joined_df = stop_times.join(stops, on=\"STOP_ID\", how=\"outer\")\n",
    "\n",
    "# Only select the relevant cols\n",
    "result_df = joined_df.select(\n",
    "    \"TRIP_ID\",\n",
    "    \"ARRIVAL_TIME\",\n",
    "    \"DEPARTURE_TIME\",\n",
    "    \"STOP_ID\",\n",
    "    \"STOP_NAME\"\n",
    ")\n",
    "\n",
    "result_df.drop_duplicates()\n",
    "\n",
    "# result_df.show(5)"
   ]
  },
  {
   "cell_type": "code",
   "execution_count": 45,
   "id": "39666a57-5490-4a4b-87da-3876765e7b8f",
   "metadata": {},
   "outputs": [
    {
     "data": {
      "application/vnd.jupyter.widget-view+json": {
       "model_id": "",
       "version_major": 2,
       "version_minor": 0
      },
      "text/plain": [
       "FloatProgress(value=0.0, bar_style='info', description='Progress:', layout=Layout(height='25px', width='50%'),…"
      ]
     },
     "metadata": {},
     "output_type": "display_data"
    }
   ],
   "source": [
    "%%spark\n",
    "\n",
    "df_planned = result_df.join(trips, on='trip_id', how='outer')\n",
    "\n",
    "# only select the relevant cols\n",
    "df_planned = df_planned.select(\n",
    "    \"TRIP_ID\",\n",
    "    \"ARRIVAL_TIME\",\n",
    "    \"DEPARTURE_TIME\",\n",
    "    \"STOP_ID\",\n",
    "    \"STOP_NAME\",\n",
    "    \"SERVICE_ID\"\n",
    ")"
   ]
  },
  {
   "cell_type": "code",
   "execution_count": 46,
   "id": "daefc349-3b0a-44bf-b617-16ed6b838c81",
   "metadata": {},
   "outputs": [
    {
     "data": {
      "application/vnd.jupyter.widget-view+json": {
       "model_id": "",
       "version_major": 2,
       "version_minor": 0
      },
      "text/plain": [
       "FloatProgress(value=0.0, bar_style='info', description='Progress:', layout=Layout(height='25px', width='50%'),…"
      ]
     },
     "metadata": {},
     "output_type": "display_data"
    },
    {
     "name": "stdout",
     "output_type": "stream",
     "text": [
      "1132287\n",
      "TA+b09kv"
     ]
    }
   ],
   "source": [
    "%%spark\n",
    "\n",
    "#####################################################\n",
    "## Takes a long time to run, only run if necessary ##\n",
    "#####################################################\n",
    "\n",
    "# Get service id for each trip id\n",
    "# From df_planned\n",
    "df_service_trip_id = df_planned.select(df_planned.TRIP_ID, df_planned.SERVICE_ID).distinct()\n",
    "dict_service_trip_id = {row['TRIP_ID']:row['SERVICE_ID'] for row in df_service_trip_id.collect()}\n",
    "\n",
    "print(len(dict_service_trip_id))\n",
    "print(dict_service_trip_id['3144.TA.26-6-j20-1.39.H'])"
   ]
  },
  {
   "cell_type": "code",
   "execution_count": 47,
   "id": "bc8edcb5-3538-4deb-8162-0dee5694705c",
   "metadata": {},
   "outputs": [
    {
     "data": {
      "application/vnd.jupyter.widget-view+json": {
       "model_id": "",
       "version_major": 2,
       "version_minor": 0
      },
      "text/plain": [
       "FloatProgress(value=0.0, bar_style='info', description='Progress:', layout=Layout(height='25px', width='50%'),…"
      ]
     },
     "metadata": {},
     "output_type": "display_data"
    },
    {
     "name": "stdout",
     "output_type": "stream",
     "text": [
      "2120\n",
      "Zürich, Winzerhalde"
     ]
    }
   ],
   "source": [
    "%%spark\n",
    "# Get stop name for each stop id\n",
    "\n",
    "#####################################################\n",
    "## Takes a long time to run, only run if necessary ##\n",
    "#####################################################\n",
    "\n",
    "# Get service id for each trip id\n",
    "# From df_planned\n",
    "df_stop_name_id = stops_in_zurich.select(stops_in_zurich.stop_name, stops_in_zurich.stop_id).distinct()\n",
    "dict_stop_name_id = dict = {row['stop_id']:row['stop_name'] for row in df_stop_name_id.collect()}\n",
    "\n",
    "print(len(dict_stop_name_id))\n",
    "print(dict_stop_name_id['8591434'])"
   ]
  },
  {
   "cell_type": "markdown",
   "id": "963b5edf-0a71-462a-a2e4-9753ac281874",
   "metadata": {},
   "source": [
    "### Given the chosen day and time, we filter the transports that are working"
   ]
  },
  {
   "cell_type": "code",
   "execution_count": 48,
   "id": "5be6ba22-4903-4ce0-8ff1-ae9b6a26befb",
   "metadata": {},
   "outputs": [
    {
     "data": {
      "text/html": [
       "<div>\n",
       "<style scoped>\n",
       "    .dataframe tbody tr th:only-of-type {\n",
       "        vertical-align: middle;\n",
       "    }\n",
       "\n",
       "    .dataframe tbody tr th {\n",
       "        vertical-align: top;\n",
       "    }\n",
       "\n",
       "    .dataframe thead th {\n",
       "        text-align: right;\n",
       "    }\n",
       "</style>\n",
       "<table border=\"1\" class=\"dataframe\">\n",
       "  <thead>\n",
       "    <tr style=\"text-align: right;\">\n",
       "      <th></th>\n",
       "      <th>trip_id</th>\n",
       "      <th>departure_time</th>\n",
       "      <th>dep_stop_id</th>\n",
       "      <th>arrival_time</th>\n",
       "      <th>arr_stop_id</th>\n",
       "      <th>stop_sequence</th>\n",
       "      <th>route_id</th>\n",
       "      <th>route_desc</th>\n",
       "      <th>route_short_name</th>\n",
       "    </tr>\n",
       "  </thead>\n",
       "  <tbody>\n",
       "    <tr>\n",
       "      <th>0</th>\n",
       "      <td>1.TA.26-525-j20-1.1.H</td>\n",
       "      <td>2023-05-28 17:35:00</td>\n",
       "      <td>8573260</td>\n",
       "      <td>2023-05-28 17:36:00</td>\n",
       "      <td>8503782</td>\n",
       "      <td>6</td>\n",
       "      <td>26-525-j20-1</td>\n",
       "      <td>Bus</td>\n",
       "      <td>525</td>\n",
       "    </tr>\n",
       "    <tr>\n",
       "      <th>1</th>\n",
       "      <td>1.TA.26-525-j20-1.1.H</td>\n",
       "      <td>2023-05-28 17:36:00</td>\n",
       "      <td>8503782</td>\n",
       "      <td>2023-05-28 17:37:00</td>\n",
       "      <td>8583831</td>\n",
       "      <td>7</td>\n",
       "      <td>26-525-j20-1</td>\n",
       "      <td>Bus</td>\n",
       "      <td>525</td>\n",
       "    </tr>\n",
       "  </tbody>\n",
       "</table>\n",
       "</div>"
      ],
      "text/plain": [
       "                 trip_id      departure_time dep_stop_id        arrival_time  \\\n",
       "0  1.TA.26-525-j20-1.1.H 2023-05-28 17:35:00     8573260 2023-05-28 17:36:00   \n",
       "1  1.TA.26-525-j20-1.1.H 2023-05-28 17:36:00     8503782 2023-05-28 17:37:00   \n",
       "\n",
       "  arr_stop_id  stop_sequence      route_id route_desc route_short_name  \n",
       "0     8503782              6  26-525-j20-1        Bus              525  \n",
       "1     8583831              7  26-525-j20-1        Bus              525  "
      ]
     },
     "execution_count": 48,
     "metadata": {},
     "output_type": "execute_result"
    }
   ],
   "source": [
    "stop_times_df = before_hour.copy()\n",
    "\n",
    "stop_times_df['arr_stop_id'] = before_hour.stop_id\n",
    "\n",
    "# Compare current row with the next row\n",
    "stop_times_df['next_stop_sequence'] = stop_times_df['stop_sequence'].shift(-1)\n",
    "\n",
    "# Update 'arr_stop_id' based on the condition\n",
    "stop_times_df.loc[stop_times_df['stop_sequence'] < stop_times_df['next_stop_sequence'], 'arr_stop_id'] = stop_times_df['stop_id'].shift(-1)\n",
    "stop_times_df.loc[stop_times_df['stop_sequence'] < stop_times_df['next_stop_sequence'], 'arrival_time'] = stop_times_df['arrival_time'].shift(-1)\n",
    "\n",
    "stop_times_df.drop('next_stop_sequence', axis=1, inplace=True)\n",
    "\n",
    "\n",
    "# reorder thte columns:\n",
    "stop_times_df.rename(columns={'stop_id': 'dep_stop_id'}, inplace=True)\n",
    "stop_times_df = stop_times_df.query('dep_stop_id != arr_stop_id')\n",
    "#stop_times_df = stop_times_df[stop_times_df.departure_time > pd.to_datetime('15:00:00')]\n",
    "# some more cleaning\n",
    "stop_times_df = stop_times_df[stop_times_df['departure_time'] <= stop_times_df['arrival_time']]\n",
    "stop_times_df = stop_times_df[['trip_id', 'departure_time', 'dep_stop_id', 'arrival_time', \n",
    "                               'arr_stop_id', 'stop_sequence','route_id', 'route_desc','route_short_name']]\n",
    "# filter out trains that leave before \n",
    "\n",
    "stop_times_df.head(2)"
   ]
  },
  {
   "cell_type": "markdown",
   "id": "91cd788f-3587-4967-b163-b31ae770d0e1",
   "metadata": {},
   "source": [
    "Defining the dictionary mapping trip ID to the corresponding mean of transport"
   ]
  },
  {
   "cell_type": "code",
   "execution_count": 97,
   "id": "43f8bdaa-1603-49d5-b5d4-e26b081ddc26",
   "metadata": {},
   "outputs": [
    {
     "data": {
      "application/vnd.jupyter.widget-view+json": {
       "model_id": "",
       "version_major": 2,
       "version_minor": 0
      },
      "text/plain": [
       "FloatProgress(value=0.0, bar_style='info', description='Progress:', layout=Layout(height='25px', width='50%'),…"
      ]
     },
     "metadata": {},
     "output_type": "display_data"
    }
   ],
   "source": [
    "%%spark\n",
    "\n",
    "transport_name_dict = {row['trip_id']:(row['route_desc'] + ' ' + row['route_short_name']) for row in before_hour.collect()}\n"
   ]
  },
  {
   "cell_type": "markdown",
   "id": "047e708f-785d-495a-8c23-5b446f6526da",
   "metadata": {},
   "source": [
    "At this point we define stops_in_zurich, transfers, stop_times locally."
   ]
  },
  {
   "cell_type": "code",
   "execution_count": 52,
   "id": "53a8a4a5-e549-410b-8c47-f33e7d0959e1",
   "metadata": {},
   "outputs": [],
   "source": [
    "trips = stop_times_df.trip_id.unique()\n",
    "\n",
    "stop_ids = stops_in_zurich.stop_id\n",
    "\n",
    "stop_names = {}\n",
    "for _, row in stops_in_zurich.iterrows():\n",
    "    stop_names[row.stop_id] = row.stop_name\n",
    "\n",
    "date_init = pd.to_datetime('00:00:00')\n",
    "\n",
    "# The following table is sorted by arrival_time. This operation is needed in order to run the binary search in the CSA algorithm and make it more efficient. \n",
    "restricted = stop_times_df[['trip_id','departure_time','dep_stop_id','arrival_time','arr_stop_id']].sort_values(by=['arrival_time'])\n",
    "restricted = np.array(restricted)\n",
    "\n",
    "delta = pd.to_timedelta(2, unit='m')\n",
    "\n",
    "transfers = transfers.to_numpy()\n"
   ]
  },
  {
   "cell_type": "markdown",
   "id": "d565b6a9-0523-4cc5-b654-f4bbf93c7f16",
   "metadata": {
    "tags": []
   },
   "source": [
    "## CSA Algorithm"
   ]
  },
  {
   "cell_type": "code",
   "execution_count": 53,
   "id": "ae92c92f-4974-460c-89c7-c71146984ebf",
   "metadata": {},
   "outputs": [],
   "source": [
    "def CSA(starting_stop, arrival_stop, arrival_time, avoid = []):\n",
    "    '''\n",
    "    Connections Scan Algorithm \n",
    "    Refer to J. Dibbelt et Al 'Connection Scan Algorithm' 2017. \n",
    "    \n",
    "    Inputs: \n",
    "        - starting_stop = stop_id of the starting station\n",
    "        - arrival_stop = stop_id of the arriving station \n",
    "        - arrival_time = arrival time defined by user\n",
    "        - avoid = list containing connection to avoid when running the algorithm\n",
    "        \n",
    "    Outputs: \n",
    "        - Path = list of connections whose entries are the trip_id, the time of each trip \n",
    "                    for each train among all the changeovers.\n",
    "                \n",
    "    '''   \n",
    "    \n",
    "    # Defining useful dictionaries to keep track of stations and path to them. We initialize them\n",
    "    # by setting to None all the possible sources and datetimes.\n",
    "    Stop = dict.fromkeys(stop_ids, [None, date_init, None, None, None]) \n",
    "    Trip = dict.fromkeys(trips, False)\n",
    "    Stop[arrival_stop] = [None, arrival_time, arrival_stop, None, None]\n",
    "    \n",
    "    # If the arrival station is reachable by foot we update the Stop dictionary\n",
    "    # adding the found connection.\n",
    "    for walk in transfers[ transfers[:,0] == arrival_stop ]:\n",
    "        \n",
    "        # Computing the departure time in order to reach the arrival stop in time\n",
    "        # defined as arrival stop - time needed to walk\n",
    "        delta_time = arrival_time - pd.to_datetime(\"%02d:%02d:00\"%(0,walk[2]))\n",
    "        hours = delta_time.seconds // (60*60)\n",
    "        minutes = (delta_time.seconds - hours * 60*60) // 60\n",
    "        \n",
    "        # update stop with the walking connection       \n",
    "        Stop[walk[1]] = ['Walking', pd.to_datetime(\"%02d:%02d:00\"%(hours, minutes)), walk[1], arrival_time, arrival_stop]\n",
    "    \n",
    "    \n",
    "    lowest = 0\n",
    "    highest = restricted.shape[0] -1\n",
    "    \n",
    "    \n",
    "    # The following BS is used in order to find the first connection c_0 departing npt later\n",
    "    # then the fixed 'time' given initially. Once such a connection is found the true iteration of the algorithm starts\n",
    "    # from such c_0 rather than from the first connection in the rescrited time table.\n",
    "    # Note that: the algorithm can be run since we sorted our timetable by arrival time\n",
    "    def binary_search(time, low=lowest, high=highest):\n",
    "        '''\n",
    "        Binary Search \n",
    "        \n",
    "        Return: An integer, Index of the first connection arring at 'time' \n",
    "        '''\n",
    "        if high > low:\n",
    "            mid = (high + low) // 2\n",
    "            arr_time = restricted[mid,3]\n",
    "\n",
    "            if arr_time == time:\n",
    "                return mid\n",
    "            elif arr_time > time:\n",
    "                return binary_search(time, low, mid - 1)\n",
    "            else:\n",
    "                return binary_search(time, mid+1, high)\n",
    "\n",
    "        if high == low:\n",
    "            mid = high\n",
    "            arr_time = restricted[mid,3]\n",
    "            if arr_time <= time:\n",
    "                return mid\n",
    "            else:\n",
    "                return mid-1\n",
    "\n",
    "    \n",
    "    # we now define the starting point of the iteration described in the original paper.\n",
    "    c_0 = binary_search(arrival_time)\n",
    "    # we loop over all connections c starting from c_0\n",
    "    for connection in restricted[c_0::-1]:\n",
    "        # proceed if te current connection is not to be avoided (to deal with CIs)\n",
    "        if not (connection[0] in avoid): \n",
    "            if Stop[starting_stop][1] >= connection[3]:\n",
    "                break\n",
    "            if Trip[connection[0]] or S[connection[4]][1]>=connection[3]+delta:\n",
    "                if Stop[connection[2]][1]<connection[1]:\n",
    "                    Trip[connection[0]] = True\n",
    "                    Stop[connection[2]] = list(connection)\n",
    "                    for footpath in transfers[transfers[:,0]==connection[2] ]:\n",
    "                        \n",
    "                        delta_time = connection[1]-(pd.to_datetime(\"%02d:%02d:00\"%(0,footpath[2])))\n",
    "                        hours = delta_time.seconds // (60*60)\n",
    "                        minutes = (delta_time.seconds - hours * 60*60) // 60\n",
    "                        \n",
    "                        if Stop[footpath[1]][1]< pd.to_datetime(\"%02d:%02d:00\"%(hours, minutes)):\n",
    "                            \n",
    "                            delta_time = connection[1]-(pd.to_datetime(\"%02d:%02d:00\"%(0,footpath[2])))\n",
    "                            hours = delta_time.seconds // (60*60)\n",
    "                            minutes = (delta_time.seconds - hours * 60*60) // 60\n",
    "                            \n",
    "                            Stop[footpath[1]] = ['Walking', pd.to_datetime(\"%02d:%02d:00\"%(hours, minutes)), footpath[1], connection[1], footpath[0]] \n",
    "                            \n",
    "            \n",
    "    # The following condition is satisfied only if it's possible to reach the current target staiton from another one. \n",
    "    # If that's the case we reconstruct te path and output it \n",
    "    if Stop[starting_stop][0]!=None:\n",
    "        path = []\n",
    "        temp = None\n",
    "        step = Stop[starting_stop]\n",
    "        while step[0]!=None:\n",
    "            if step[0]!=temp:\n",
    "                if step[2]!=starting_stop:\n",
    "                    path[-1][3] = old[3]\n",
    "                    path[-1][4] = old[4]\n",
    "                path.append(step)\n",
    "                temp = step[0]\n",
    "                old = step\n",
    "            else:\n",
    "                old = step\n",
    "            step = Stop[step[4]]\n",
    "        if step[0]!=temp:\n",
    "            path[-1][3] = old[3]\n",
    "            path[-1][4] = old[4]\n",
    "        path.append(step)\n",
    "        return path\n",
    "    \n",
    "    else:\n",
    "        return [] "
   ]
  },
  {
   "cell_type": "markdown",
   "id": "20c1b248-6c1c-4a11-b9be-138c69569391",
   "metadata": {},
   "source": [
    "An example of the functioning of the code with a trip with changeover"
   ]
  },
  {
   "cell_type": "code",
   "execution_count": 55,
   "id": "c5999ac6-8632-4be6-812d-a60d0756d3db",
   "metadata": {},
   "outputs": [
    {
     "data": {
      "text/plain": [
       "[['3144.TA.26-6-j20-1.39.H',\n",
       "  Timestamp('2023-05-28 10:39:00'),\n",
       "  '8591230',\n",
       "  Timestamp('2023-05-28 10:51:00'),\n",
       "  '8587349'],\n",
       " ['1967.TA.26-14-A-j20-1.15.H',\n",
       "  Timestamp('2023-05-28 10:54:00'),\n",
       "  '8587349',\n",
       "  Timestamp('2023-05-28 11:04:00'),\n",
       "  '8573710'],\n",
       " [None, Timestamp('2023-05-28 11:10:00'), '8573710', None, None]]"
      ]
     },
     "execution_count": 55,
     "metadata": {},
     "output_type": "execute_result"
    }
   ],
   "source": [
    "# here is an example of succesful trip with a changeover:\n",
    "starting_stop_ex=\"8591230\"\n",
    "arrival_stop_ex=\"8573710\"\n",
    "hour_ex=11\n",
    "minute_ex=10\n",
    "\n",
    "CSA(starting_stop_ex,\n",
    "    arrival_stop_ex,\n",
    "    arrival_time=pd.to_datetime(\"%02d:%02d:00\"%(hour_ex, minute_ex)))"
   ]
  },
  {
   "cell_type": "markdown",
   "id": "f9e3498d-3831-4279-b3b2-2fd72eaa4348",
   "metadata": {},
   "source": [
    "# Start of the CI section"
   ]
  },
  {
   "cell_type": "markdown",
   "id": "a780a3f5-508e-4175-93b9-e872f041fcea",
   "metadata": {},
   "source": [
    "## Importing historical data"
   ]
  },
  {
   "cell_type": "markdown",
   "id": "eed8fc2b-7472-47de-8b74-b2d3598e57ed",
   "metadata": {},
   "source": [
    "We now import the historical data pre-precessed before in order to use them to calculate the ECDF of delays at a given station-"
   ]
  },
  {
   "cell_type": "code",
   "execution_count": 56,
   "id": "d0da04b4-b7ee-42e4-b839-20bae7680b51",
   "metadata": {},
   "outputs": [
    {
     "data": {
      "application/vnd.jupyter.widget-view+json": {
       "model_id": "",
       "version_major": 2,
       "version_minor": 0
      },
      "text/plain": [
       "FloatProgress(value=0.0, bar_style='info', description='Progress:', layout=Layout(height='25px', width='50%'),…"
      ]
     },
     "metadata": {},
     "output_type": "display_data"
    }
   ],
   "source": [
    "%%spark\n",
    "# Get data in spark\n",
    "df = spark.sql(\"select * from {0}.zur_istdaten\".format(\"digennar\"))\n",
    "\n",
    "df = df.select(\n",
    "    \"TRIP_ID\",\n",
    "    \"SCHEDULED_AR\",\n",
    "    \"ACT_AR\",\n",
    "    \"SCHEDULED_DEP\",\n",
    "    \"ACT_DEP\",\n",
    "    \"STOP_NAME\",\n",
    "    \"TRAIN_NUMBER\"\n",
    ")"
   ]
  },
  {
   "cell_type": "code",
   "execution_count": 57,
   "id": "48838956-a372-4790-8b03-70a8ea0a94e9",
   "metadata": {},
   "outputs": [
    {
     "data": {
      "application/vnd.jupyter.widget-view+json": {
       "model_id": "",
       "version_major": 2,
       "version_minor": 0
      },
      "text/plain": [
       "FloatProgress(value=0.0, bar_style='info', description='Progress:', layout=Layout(height='25px', width='50%'),…"
      ]
     },
     "metadata": {},
     "output_type": "display_data"
    },
    {
     "name": "stdout",
     "output_type": "stream",
     "text": [
      "+--------------------+------------+----------+-------------+----------+--------------------+------------+\n",
      "|             TRIP_ID|SCHEDULED_AR|    ACT_AR|SCHEDULED_DEP|   ACT_DEP|           STOP_NAME|TRAIN_NUMBER|\n",
      "+--------------------+------------+----------+-------------+----------+--------------------+------------+\n",
      "|85:882:129321-181...|  1672270740|1672268400|   1672270740|1672268400|   Brütten, Harossen|  85:882:105|\n",
      "|85:882:129321-181...|  1672270800|1672268400|   1672270800|1672268400|    Brütten, Zentrum|  85:882:105|\n",
      "|85:882:129321-181...|  1672270860|1672268400|         null|      null|   Brütten, Hofacher|  85:882:105|\n",
      "|85:882:130079-181...|        null|      null|   1672201140|1672182000|Nürensdorf, Chrüz...|  85:882:660|\n",
      "|85:882:130079-181...|  1672201620|1672182000|   1672201620|1672182000|   Brütten, Hofacher|  85:882:660|\n",
      "+--------------------+------------+----------+-------------+----------+--------------------+------------+\n",
      "only showing top 5 rows"
     ]
    }
   ],
   "source": [
    "%%spark\n",
    "df.show(5)"
   ]
  },
  {
   "cell_type": "code",
   "execution_count": 58,
   "id": "77867dae-dc74-4481-a680-8a6256047b13",
   "metadata": {},
   "outputs": [
    {
     "data": {
      "application/vnd.jupyter.widget-view+json": {
       "model_id": "",
       "version_major": 2,
       "version_minor": 0
      },
      "text/plain": [
       "FloatProgress(value=0.0, bar_style='info', description='Progress:', layout=Layout(height='25px', width='50%'),…"
      ]
     },
     "metadata": {},
     "output_type": "display_data"
    },
    {
     "name": "stdout",
     "output_type": "stream",
     "text": [
      "+--------------------+------------+--------------+-------+---------+----------+\n",
      "|             TRIP_ID|ARRIVAL_TIME|DEPARTURE_TIME|STOP_ID|STOP_NAME|SERVICE_ID|\n",
      "+--------------------+------------+--------------+-------+---------+----------+\n",
      "|1.TA.1-366-j20-1.1.R|        null|          null|   null|     null|  TA+b15vr|\n",
      "|1.TA.1-394-j20-1.1.R|        null|          null|   null|     null|  TA+b15vk|\n",
      "|1.TA.11-13-A-j20-...|        null|          null|   null|     null|  TA+b0xmi|\n",
      "| 1.TA.17-5-j20-1.1.H|        null|          null|   null|     null|  TA+b0okx|\n",
      "|1.TA.2-228-j20-1.1.H|        null|          null|   null|     null|  TA+b15vk|\n",
      "+--------------------+------------+--------------+-------+---------+----------+\n",
      "only showing top 5 rows"
     ]
    }
   ],
   "source": [
    "%%spark\n",
    "df_planned.show(5)"
   ]
  },
  {
   "cell_type": "markdown",
   "id": "8a2d11ad-dc61-40e5-87d1-fe3c155107a1",
   "metadata": {},
   "source": [
    "Here we do a sanity check to assure that the data we are working with make sense and are not empty."
   ]
  },
  {
   "cell_type": "code",
   "execution_count": 37,
   "id": "a6e8def2-df18-464a-a893-4f16054d04f7",
   "metadata": {},
   "outputs": [
    {
     "data": {
      "application/vnd.jupyter.widget-view+json": {
       "model_id": "",
       "version_major": 2,
       "version_minor": 0
      },
      "text/plain": [
       "FloatProgress(value=0.0, bar_style='info', description='Progress:', layout=Layout(height='25px', width='50%'),…"
      ]
     },
     "metadata": {},
     "output_type": "display_data"
    },
    {
     "name": "stdout",
     "output_type": "stream",
     "text": [
      "['1.TA.1-394-j20-1.1.R', '1.TA.11-13-A-j20-1.1.H', '1.TA.17-5-j20-1.1.H', '1.TA.2-228-j20-1.1.H']"
     ]
    }
   ],
   "source": [
    "%%spark\n",
    "\n",
    "# IT TAKES LONG!! run only if required (no nedeed for future code)\n",
    "trips_id_planned = df_planned.select('TRIP_ID')\n",
    "trips_id_planned_list = trips_id_planned.rdd.map(lambda x: x[0]).collect()\n",
    "trips_id_planned_list[1:5]"
   ]
  },
  {
   "cell_type": "code",
   "execution_count": null,
   "id": "5c2dd996-b759-4ac8-868c-f207c1a10cfb",
   "metadata": {},
   "outputs": [],
   "source": [
    "%%spark\n",
    "# no need to run this for future code. Run only if interested in seing the \n",
    "# matching elements\n",
    "matching_elements = df.TRIP_ID.isin(trips_id_planned_list).count()"
   ]
  },
  {
   "cell_type": "markdown",
   "id": "4c632717-8f49-42b3-9065-ab0b331c2029",
   "metadata": {},
   "source": [
    "We now build a couple of dataset nedeed later."
   ]
  },
  {
   "cell_type": "code",
   "execution_count": 59,
   "id": "e4f46b4c-a480-4ad0-86ff-82250be5d90f",
   "metadata": {},
   "outputs": [
    {
     "data": {
      "application/vnd.jupyter.widget-view+json": {
       "model_id": "",
       "version_major": 2,
       "version_minor": 0
      },
      "text/plain": [
       "FloatProgress(value=0.0, bar_style='info', description='Progress:', layout=Layout(height='25px', width='50%'),…"
      ]
     },
     "metadata": {},
     "output_type": "display_data"
    }
   ],
   "source": [
    "%%spark\n",
    "\n",
    "df_stop_time_id = stop_times.select(\n",
    "    \"departure_time\",\n",
    "    \"arrival_time\",\n",
    "    \"stop_id\",\n",
    "    \"service_id\"\n",
    ")\n",
    "\n",
    "df_stop_time_id = df_stop_time_id.withColumn(\"departure_time\", F.unix_timestamp(df_stop_time_id.departure_time,'HH:mm:ss'))\n",
    "df_stop_time_id = df_stop_time_id.withColumn(\"arrival_time\", F.unix_timestamp(df_stop_time_id.arrival_time,'HH:mm:ss'))\n",
    "\n",
    "\n",
    "df_stop_name_id = stops_in_zurich.select(\n",
    "    \"stop_id\",\n",
    "    \"stop_name\"\n",
    ")\n"
   ]
  },
  {
   "cell_type": "code",
   "execution_count": 60,
   "id": "3fbe84de-c60d-4e13-81f6-1619b4ac0732",
   "metadata": {},
   "outputs": [
    {
     "data": {
      "application/vnd.jupyter.widget-view+json": {
       "model_id": "",
       "version_major": 2,
       "version_minor": 0
      },
      "text/plain": [
       "FloatProgress(value=0.0, bar_style='info', description='Progress:', layout=Layout(height='25px', width='50%'),…"
      ]
     },
     "metadata": {},
     "output_type": "display_data"
    },
    {
     "name": "stdout",
     "output_type": "stream",
     "text": [
      "+--------------+------------+--------------------+----------+\n",
      "|departure_time|arrival_time|           stop_name|service_id|\n",
      "+--------------+------------+--------------------+----------+\n",
      "|         59700|       59700|   Höri, Fuhrstrasse|  TA+b0nsl|\n",
      "|         59760|       59760|  Höri, Gemeindehaus|  TA+b0nsl|\n",
      "|         59820|       59820|     Höri, Schulhaus|  TA+b0nsl|\n",
      "|         59880|       59880|      Höri, Oberhöri|  TA+b0nsl|\n",
      "|         26220|       26220|Schwerzenbach ZH,...|  TA+b162b|\n",
      "+--------------+------------+--------------------+----------+\n",
      "only showing top 5 rows"
     ]
    }
   ],
   "source": [
    "%%spark\n",
    "\n",
    "df_stop_name_time_id = df_stop_time_id.join(df_stop_name_id, df_stop_time_id.stop_id == df_stop_name_id.stop_id, \"inner\")\n",
    "df_stop_name_time_id = df_stop_name_time_id.select(\n",
    "    \"departure_time\",\n",
    "    \"arrival_time\",\n",
    "    \"stop_name\",\n",
    "    \"service_id\"\n",
    ")\n",
    "\n",
    "df_stop_name_time_id.show(5)\n",
    "#print(df_stop_name_time_id.count())"
   ]
  },
  {
   "cell_type": "markdown",
   "id": "c3868e70-981d-48da-a99d-33acca86539d",
   "metadata": {},
   "source": [
    "When possible, we filter the historical data by service_id to then calculate based on that data the ECDF required. This allow us to be more precise on the delay of the specific line the user is gonna take.  \n",
    "The main problem here is the fact that the output of CSA (so timetables data) and historical data are not well linked w.r.t. the service_id. For this reason sometimes the filtering procedure we use to make such a link returns an empty df. For the stations where this happens, we simply filter the historical df with the name of the station (less precise, calculating the delay of each train stopping at your station and not only of the train you will take)."
   ]
  },
  {
   "cell_type": "markdown",
   "id": "0504d044-9a61-4492-963b-e640562b9b31",
   "metadata": {},
   "source": [
    "We removed observations that we considered as outliers (delays computed greater than 60 min) and we also put at zero the negative delays (train arrived earlier than scheduled)."
   ]
  },
  {
   "cell_type": "code",
   "execution_count": 61,
   "id": "e3795598-bd66-4488-81f5-cdf543394aa6",
   "metadata": {},
   "outputs": [
    {
     "data": {
      "application/vnd.jupyter.widget-view+json": {
       "model_id": "",
       "version_major": 2,
       "version_minor": 0
      },
      "text/plain": [
       "FloatProgress(value=0.0, bar_style='info', description='Progress:', layout=Layout(height='25px', width='50%'),…"
      ]
     },
     "metadata": {},
     "output_type": "display_data"
    },
    {
     "name": "stdout",
     "output_type": "stream",
     "text": [
      "+--------------------+------------+----------+-------------+----------+------------------+------------+-------+--------+\n",
      "|             TRIP_ID|SCHEDULED_AR|    ACT_AR|SCHEDULED_DEP|   ACT_DEP|         STOP_NAME|TRAIN_NUMBER|time_ar|time_dep|\n",
      "+--------------------+------------+----------+-------------+----------+------------------+------------+-------+--------+\n",
      "|85:882:77617-44101-1|  1670540340|1670540400|   1670540340|1670540400| Brütten, Hofacher|  85:882:660|  82740|   82740|\n",
      "|     85:11:18291:001|  1670454000|1670454000|   1670454060|1670454000|           Thalwil|       18291|  82800|   82860|\n",
      "|     85:11:19193:001|  1670454000|1670454000|         null|      null|         Zürich HB|       19193|  82800|    null|\n",
      "|     85:11:19293:001|  1670453940|1670454000|   1670454000|1670454000|          Dietikon|       19293|  82740|   82800|\n",
      "|     85:11:19491:001|  1670454000|1670454000|   1670454000|1670454000|Nänikon-Greifensee|       19491|  82800|   82800|\n",
      "+--------------------+------------+----------+-------------+----------+------------------+------------+-------+--------+\n",
      "only showing top 5 rows"
     ]
    }
   ],
   "source": [
    "%%spark\n",
    "\n",
    "# Try to add service id column to df\n",
    "max_delay = 60*60\n",
    "seconds_in_a_day = 60*60*24\n",
    "df = df.withColumn(\"time_ar\", df.SCHEDULED_AR % seconds_in_a_day)\n",
    "df = df.withColumn(\"time_dep\", df.SCHEDULED_DEP % seconds_in_a_day)\n",
    "\n",
    "df = df.filter((df.ACT_AR % seconds_in_a_day) - (df.SCHEDULED_AR % seconds_in_a_day) < max_delay)\n",
    "df = df.filter((df.ACT_AR % seconds_in_a_day) - (df.SCHEDULED_AR % seconds_in_a_day) >= 0)\n",
    "\n",
    "\n",
    "df.show(5)"
   ]
  },
  {
   "cell_type": "code",
   "execution_count": 62,
   "id": "83f7c07d-f97d-4389-aa6b-8a548b3861ec",
   "metadata": {},
   "outputs": [
    {
     "data": {
      "application/vnd.jupyter.widget-view+json": {
       "model_id": "",
       "version_major": 2,
       "version_minor": 0
      },
      "text/plain": [
       "FloatProgress(value=0.0, bar_style='info', description='Progress:', layout=Layout(height='25px', width='50%'),…"
      ]
     },
     "metadata": {},
     "output_type": "display_data"
    }
   ],
   "source": [
    "%%spark\n",
    "\n",
    "df_test = df.join(df_stop_name_time_id, ((df.time_ar == df_stop_name_time_id.arrival_time) \n",
    "                                         | (df.time_dep == df_stop_name_time_id.departure_time)) \n",
    "                  & (df.STOP_NAME == df_stop_name_time_id.stop_name), \"inner\")\n",
    "\n",
    "df_test = df_test.select(\n",
    "    \"digennar.zur_istdaten.STOP_NAME\",\n",
    "    \"service_id\",\n",
    "    \"SCHEDULED_AR\",\n",
    "    \"ACT_AR\",\n",
    "    \"SCHEDULED_DEP\",\n",
    "    \"ACT_DEP\"\n",
    ").distinct()\n",
    "\n",
    "# df_test.show(5)"
   ]
  },
  {
   "cell_type": "code",
   "execution_count": 81,
   "id": "5b26d2ec-9646-4a76-96ea-acfeac427d5e",
   "metadata": {},
   "outputs": [
    {
     "data": {
      "application/vnd.jupyter.widget-view+json": {
       "model_id": "7f793d5efe61470aa88af2c2df1cf357",
       "version_major": 2,
       "version_minor": 0
      },
      "text/plain": [
       "FloatProgress(value=0.0, bar_style='info', description='Progress:', layout=Layout(height='25px', width='50%'),…"
      ]
     },
     "metadata": {},
     "output_type": "display_data"
    },
    {
     "name": "stderr",
     "output_type": "stream",
     "text": [
      "Interrupted by user\n"
     ]
    }
   ],
   "source": [
    "%%spark\n",
    "\n",
    "print(df.count())\n",
    "print(df_test.count())"
   ]
  },
  {
   "cell_type": "code",
   "execution_count": 63,
   "id": "c55d07aa-5f59-44db-bc3f-87ae4eaf82f0",
   "metadata": {},
   "outputs": [
    {
     "data": {
      "application/vnd.jupyter.widget-view+json": {
       "model_id": "",
       "version_major": 2,
       "version_minor": 0
      },
      "text/plain": [
       "FloatProgress(value=0.0, bar_style='info', description='Progress:', layout=Layout(height='25px', width='50%'),…"
      ]
     },
     "metadata": {},
     "output_type": "display_data"
    }
   ],
   "source": [
    "%%spark\n",
    "\n",
    "# Filter delays\n",
    "max_delay = 30 * 60\n",
    "seconds_in_a_day = 60*60*24\n",
    "# On same day less than 30min (positive) difference or drop\n",
    "df_final = df_test.filter((df_test.ACT_AR % seconds_in_a_day) - (df_test.SCHEDULED_AR % seconds_in_a_day) < max_delay)\n",
    "df_final = df_final.filter((df_final.ACT_AR % seconds_in_a_day) - (df_final.SCHEDULED_AR % seconds_in_a_day) >= 0)\n",
    "#df_final.show(5)\n"
   ]
  },
  {
   "cell_type": "markdown",
   "id": "d9973944-a3ac-43f5-8122-8b75da6fa0fc",
   "metadata": {},
   "source": [
    "## CONFIDENCE OF THE TRIP"
   ]
  },
  {
   "cell_type": "markdown",
   "id": "8d740571-0924-4a80-a1f4-a0f44b9ed74d",
   "metadata": {},
   "source": [
    "Once we have the result of CSA algorithm, our approach in getting the confidence for the trip is the following:    \n",
    "**i)** For each station in which we do a changeover, we select the *service_id* of the train that took us at that station.  \n",
    "**ii)** We then compute the historical delays of that train (also train at different time, i.e. unique service_id) in that station.  \n",
    "**iii)** We compute the ECDF and we look at the theoretical time we have to do the changeover. We see then which quantile represents this number in the ECDF and this is the confidence of the changeover.  \n",
    "**iv)** If more than one changeover is present, we multiply every confidence at each changeover together in order to have a confidence for the entire trip (independence assumption)."
   ]
  },
  {
   "cell_type": "markdown",
   "id": "5a5bd4bd-1319-4375-b6c6-f42baca35fa1",
   "metadata": {
    "tags": []
   },
   "source": [
    "Given that as described above we filtered historical data on two different way (one more precise based on the service_id and one less precise based only on the name of the station), we also nedeed to define two different functions that calculate the ECDF."
   ]
  },
  {
   "cell_type": "markdown",
   "id": "62ad0807-55ab-42c7-9f2a-0d6bfc6ee2d5",
   "metadata": {},
   "source": [
    "Please notice that both the approach we used allowed us to deal we a lot of observation when calculating the ECDF. This is good because the ECDF approximate well the true CDF when the number of data n is bigger by [Dvoretzky–Kiefer–Wolfowitz inequality](https://en.wikipedia.org/wiki/Dvoretzky%E2%80%93Kiefer%E2%80%93Wolfowitz_inequality):\n",
    "$$\\mathbb{P}(sup_{x\\in\\mathbb{R}}|F_n(x)-F(x)|>\\epsilon)\\leq Ce^{-2n\\epsilon^2}, \\ \\forall \\epsilon>0$$"
   ]
  },
  {
   "cell_type": "code",
   "execution_count": 64,
   "id": "27038f67-8581-4e84-bf8c-c13e8fb4f03b",
   "metadata": {},
   "outputs": [
    {
     "data": {
      "application/vnd.jupyter.widget-view+json": {
       "model_id": "",
       "version_major": 2,
       "version_minor": 0
      },
      "text/plain": [
       "FloatProgress(value=0.0, bar_style='info', description='Progress:', layout=Layout(height='25px', width='50%'),…"
      ]
     },
     "metadata": {},
     "output_type": "display_data"
    }
   ],
   "source": [
    "%%spark\n",
    "\n",
    "def get_ecdf(df, service_id, station_name):\n",
    "    # ecdf at end for trains/trips that passed through start\n",
    "    \n",
    "    # Get trains with a given service id\n",
    "    #df_service = df.filter(df.TRAIN_NUMBER == service_id) # Assumes train nnumber in istdaten is the same as the service id\n",
    "    df_trips = df.filter(df.STOP_NAME == station_name) # station name is the end station\n",
    "    df_trips = df_trips.filter(df_trips.service_id == service_id)\n",
    "    \n",
    "    # Calculate all observed delays at end\n",
    "    df_delays = df_trips.withColumn(\"obs_delay\", df_trips.ACT_AR - df_trips.SCHEDULED_AR)\n",
    "    df_delays = df_delays.select(df_delays.obs_delay)\n",
    "    df_delays = df_delays.na.fill(0) # If missing values consider that the train was on time\n",
    "    \n",
    "    # Get ecdf from observed delays (as of now, list of delays in ascending order)\n",
    "    return df_delays.orderBy(\"obs_delay\") # In unix\n",
    "\n",
    "\n",
    "#df_example = get_ecdf(df, \"85:882:105\", \"Brütten, Zentrum\")\n",
    "df_example = get_ecdf(df_final, \"TA+b142e\", \"Zürich, Klosbach\")"
   ]
  },
  {
   "cell_type": "code",
   "execution_count": 65,
   "id": "26c24650-7dcd-48a9-9b0d-22735c131b7b",
   "metadata": {},
   "outputs": [
    {
     "data": {
      "application/vnd.jupyter.widget-view+json": {
       "model_id": "",
       "version_major": 2,
       "version_minor": 0
      },
      "text/plain": [
       "FloatProgress(value=0.0, bar_style='info', description='Progress:', layout=Layout(height='25px', width='50%'),…"
      ]
     },
     "metadata": {},
     "output_type": "display_data"
    }
   ],
   "source": [
    "%%spark\n",
    "\n",
    "def get_ecdf_trip(df, station_name):\n",
    "    # ecdf at end for trains/trips that passed through start\n",
    "    \n",
    "    # Get trains with a given service id\n",
    "    #df_service = df.filter(df.TRAIN_NUMBER == service_id) # Assumes train nnumber in istdaten is the same as the service id\n",
    "    df_trips = df.filter(df.STOP_NAME == station_name) # station name is the end station\n",
    "    \n",
    "    # Calculate all observed delays at end\n",
    "    df_delays = df_trips.withColumn(\"obs_delay\", df_trips.ACT_AR - df_trips.SCHEDULED_AR)\n",
    "    df_delays = df_delays.select(df_delays.obs_delay)\n",
    "    df_delays = df_delays.na.fill(0) # If missing values consider that the train was on time\n",
    "    \n",
    "    # Get ecdf from observed delays (as of now, list of delays in ascending order)\n",
    "    return df_delays.orderBy(\"obs_delay\") # In unix\n",
    "\n",
    "\n",
    "#df_example = get_ecdf(df, \"85:882:105\", \"Brütten, Zentrum\")\n",
    "df_example = get_ecdf_trip(df, \"Zürich, Klosbach\")"
   ]
  },
  {
   "cell_type": "code",
   "execution_count": 84,
   "id": "edaf2351-9bc9-4682-b069-0aa1596d5456",
   "metadata": {},
   "outputs": [
    {
     "data": {
      "application/vnd.jupyter.widget-view+json": {
       "model_id": "fa6aaac1b5914c7aa82a340b677984ca",
       "version_major": 2,
       "version_minor": 0
      },
      "text/plain": [
       "FloatProgress(value=0.0, bar_style='info', description='Progress:', layout=Layout(height='25px', width='50%'),…"
      ]
     },
     "metadata": {},
     "output_type": "display_data"
    },
    {
     "name": "stderr",
     "output_type": "stream",
     "text": [
      "Interrupted by user\n"
     ]
    }
   ],
   "source": [
    "%%spark\n",
    "\n",
    "#############################################################\n",
    "## Just for visualization, no need to run for code to work ##\n",
    "#############################################################\n",
    "\n",
    "df_example_len = df_example.count()\n",
    "print(\"Number of data points in ecdf: \" + str(df_example_len))\n",
    "#Show example output of list of delays\n",
    "df_example.show(5)"
   ]
  },
  {
   "cell_type": "code",
   "execution_count": 85,
   "id": "9c997859-5f24-4361-bba6-faa39bc684dc",
   "metadata": {},
   "outputs": [
    {
     "data": {
      "application/vnd.jupyter.widget-view+json": {
       "model_id": "",
       "version_major": 2,
       "version_minor": 0
      },
      "text/plain": [
       "FloatProgress(value=0.0, bar_style='info', description='Progress:', layout=Layout(height='25px', width='50%'),…"
      ]
     },
     "metadata": {},
     "output_type": "display_data"
    },
    {
     "data": {
      "image/png": "[encoded data removed]",
      "text/plain": [
       "<IPython.core.display.Image object>"
      ]
     },
     "metadata": {},
     "output_type": "display_data"
    }
   ],
   "source": [
    "%%spark\n",
    "\n",
    "#########################################################################################\n",
    "## There are a lot of negative values in the ecdf I tested, need to be sure this is ok ##\n",
    "## or else need to do better preprocessing                                             ##\n",
    "#########################################################################################\n",
    "\n",
    "def plot_ECDF(sorted_observations, n):\n",
    "    \n",
    "    x = sorted_observations.rdd.map(lambda x: x[0]).collect()\n",
    "    y = np.arange(1, n+1) / n\n",
    "\n",
    "    # Plot the ECDF\n",
    "    plt.clf()\n",
    "    plt.plot(x, y, marker='o', linestyle='-', color='b')\n",
    "    plt.xlabel('Observations')\n",
    "    plt.ylabel('ECDF')\n",
    "    plt.title('Empirical Cumulative Distribution Function')\n",
    "    #plt.xlim([x[0], x[-1]])\n",
    "    #plt.ylim([0, 1])\n",
    "    plt.grid(True)\n",
    "    plt.show()\n",
    "    \n",
    "    \n",
    "plot_ECDF(df_example, df_example_len)\n",
    "# Necessary for plot to be shown\n",
    "%matplot plt \n"
   ]
  },
  {
   "cell_type": "code",
   "execution_count": 66,
   "id": "0220f423-fbff-4bed-8a3b-9d8a753d18a4",
   "metadata": {},
   "outputs": [
    {
     "data": {
      "application/vnd.jupyter.widget-view+json": {
       "model_id": "",
       "version_major": 2,
       "version_minor": 0
      },
      "text/plain": [
       "FloatProgress(value=0.0, bar_style='info', description='Progress:', layout=Layout(height='25px', width='50%'),…"
      ]
     },
     "metadata": {},
     "output_type": "display_data"
    }
   ],
   "source": [
    "%%spark\n",
    "#PSEUDO CODE OF THE FINAL FUNCTION\n",
    "\n",
    "def level_of_feasibility(df, service_ids, start_station, end_station,\n",
    "                         changeovers, T, arrival_times, times_for_changeovers, trip_ids):\n",
    "    '''\n",
    "    INPUT\n",
    "    df: dataframe with the planned journeys\n",
    "    service_ids: list of service_id of each changeover\n",
    "    start_station: starting point of your journey\n",
    "    end_station: end point of your journey\n",
    "    changeovers: list of all the changeovers (stop_id?) of the trip\n",
    "    T: time you want to arrive before\n",
    "    arrival_times: list of all the arrival times at each station where you do a changeover\n",
    "    times for changeovers: list of all the times (theoretical) for each changeover, 0 if not changeovers\n",
    "    trip_ids:\n",
    "    \n",
    "    OUTPUT\n",
    "    quantile: level of certainty of the feasibility of the trip (to be compared with Q)\n",
    "    '''\n",
    "    # CASE NO CHANGEOVERS\n",
    "    if changeovers == 0:\n",
    "        if len(service_ids)> 0:\n",
    "                emp_delays = get_ecdf(df, service_ids[i], end_station_temp) \n",
    "        else:\n",
    "                emp_delays = get_ecdf_trip(df, end_station_temp)\n",
    "        surplus_time = T - arrival_times[0] #theoretical difference in time of arrival and T\n",
    "        emp_delays_count = emp_delays.count()\n",
    "        if emp_delays_count == 0:\n",
    "            quantile = 1\n",
    "        else:\n",
    "            quantile = emp_delays.filter(emp_delays.obs_delay <= surplus_time).count()/emp_delays.count()\n",
    "       \n",
    "        return quantile, trip_ids[0], quantile\n",
    "    \n",
    "    #CASE AT LEAST ONE CHANGEOVER\n",
    "    else:\n",
    "        n_changeovers = len(changeovers) #number of changeovers\n",
    "        # times_for_changeovers = calculate_time_changeovers(df, service_ids, start_station, end_station, changeovers, T) # list of theoretical time for each changeover\n",
    "        \n",
    "        q_changeovers = []\n",
    "        min_idx = 0\n",
    "        min_q = 1\n",
    "        \n",
    "        for i in range(n_changeovers):\n",
    "            if i==0:\n",
    "                start_station_temp = start_station\n",
    "                end_station_temp = changeovers[i]\n",
    "            elif i==n_changeovers-1:\n",
    "                start_station_temp = changeovers[-1]\n",
    "                end_station_temp = end_station\n",
    "            else:\n",
    "                start_station_temp = changeovers[i-1]\n",
    "                end_station_temp = changeovers[i]\n",
    "                \n",
    "            if len(service_ids)> 0:\n",
    "                emp_delays = get_ecdf(df, service_ids[i], end_station_temp) #ecdf of delay at i-th changeover\n",
    "            else:\n",
    "                emp_delays = get_ecdf_trip(df, end_station_temp) #ecdf of delay at i-th changeover\n",
    "            emp_delays_count = emp_delays.count()\n",
    "            if emp_delays_count == 0:\n",
    "                quantile = 1\n",
    "            else:\n",
    "                # -120 is to cosider the wlking time between tracks\n",
    "                quantile =  emp_delays.filter(emp_delays.obs_delay <= times_for_changeovers[i] - 120 ).count()/emp_delays.count() #calculate the % of observed delays that are below the time you have\n",
    "            \n",
    "            q_changeovers.append(quantile) #add the level of certainty you catch the i-th changeover based on ecdf of delays\n",
    "            if quantile < min_q:\n",
    "                min_q = quantile\n",
    "                min_idx = i\n",
    "    \n",
    "        # once we have the list, we can assume independence of trips and multiply the total quantile as the\n",
    "        # multiplication of all the quantiles of the list \"q_changeovers\"\n",
    "        \n",
    "        quantile = 1\n",
    "        for q in q_changeovers:\n",
    "            quantile *= q\n",
    "        \n",
    "        return quantile, trip_ids[min_idx], q_changeovers[min_idx]\n",
    "    \n",
    "# REMARKS:\n",
    "# 1) times_for_changeovers[end] needs to be T-expected_arrival\n"
   ]
  },
  {
   "cell_type": "markdown",
   "id": "72dea8a3-e86b-4535-bda9-6243b797a8ba",
   "metadata": {},
   "source": [
    "We then test the function above on two example. One with changeovers and one without it (taken from different output of CSA)."
   ]
  },
  {
   "cell_type": "markdown",
   "id": "dd35f860-40c3-46f4-a90a-b0fc3647c005",
   "metadata": {
    "tags": []
   },
   "source": [
    "## Example without changeovers"
   ]
  },
  {
   "cell_type": "code",
   "execution_count": null,
   "id": "f5b2ea61-9ae8-4322-a113-36115e583fe6",
   "metadata": {},
   "outputs": [],
   "source": [
    "%%spark\n",
    "# EXAMPLE OF NO-CHANGEOVERS\n",
    "\n",
    "service_ids = [\"85:882:660\"]\n",
    "start_station = \"Nürensdorf, Chrüzstrass\"\n",
    "end_station = \"Brütten, Hofacher\"\n",
    "T = 1672201680\n",
    "arrival_times = [1672201620]\n",
    "changeovers = 0\n",
    "times_for_changeovers = 0\n",
    "\n",
    "qu, trip_id, _ = level_of_feasibility(df, [], start_station, end_station,\n",
    "                         changeovers, T, arrival_times, times_for_changeovers)\n",
    "qu"
   ]
  },
  {
   "cell_type": "markdown",
   "id": "46534c09-724a-44f8-9a9f-4547f4a94f8d",
   "metadata": {},
   "source": [
    "## Example with changeovers"
   ]
  },
  {
   "cell_type": "code",
   "execution_count": 67,
   "id": "4ef93831-f09a-418f-a03a-8d5470283ab2",
   "metadata": {},
   "outputs": [
    {
     "data": {
      "application/vnd.jupyter.widget-view+json": {
       "model_id": "",
       "version_major": 2,
       "version_minor": 0
      },
      "text/plain": [
       "FloatProgress(value=0.0, bar_style='info', description='Progress:', layout=Layout(height='25px', width='50%'),…"
      ]
     },
     "metadata": {},
     "output_type": "display_data"
    },
    {
     "name": "stdout",
     "output_type": "stream",
     "text": [
      "['TA+b09kv', 'TA+b14p0']\n",
      "['Zürich, Kirche Fluntern', 'Zürich, Bahnhofquai/HB', 'Zürich Wiedikon, Bahnhof']"
     ]
    }
   ],
   "source": [
    "%%spark\n",
    "\n",
    "#['3144.TA.26-6-j20-1.39.H', Timestamp('2023-05-26 10:39:00'), '8591230', Timestamp('2023-05-26 10:51:00'), '8587349'], \n",
    "#['1967.TA.26-14-A-j20-1.15.H', Timestamp('2023-05-26 10:54:00'), '8587349', Timestamp('2023-05-26 11:04:00'), '8573710'], \n",
    "trip_ids = ['3144.TA.26-6-j20-1.39.H', '1967.TA.26-14-A-j20-1.15.H']\n",
    "stop_ids = ['8591230', '8587349', '8573710']\n",
    "\n",
    "# Get service id from trip id\n",
    "service_ids = [dict_service_trip_id[t] for t in trip_ids]\n",
    "print(service_ids)\n",
    "\n",
    "# Get stop name from stop id\n",
    "stop_names = [dict_stop_name_id[s] for s in stop_ids]\n",
    "print(stop_names)\n"
   ]
  },
  {
   "cell_type": "markdown",
   "id": "fcbd6fe9-b743-4573-ba5f-c49a33771e94",
   "metadata": {},
   "source": [
    "Here we wrote a function able to create a dictionary of the useful information provided as output by the CSA algorithm. This is required to have the data in the right way to be feed into the level_of_feasibility function."
   ]
  },
  {
   "cell_type": "code",
   "execution_count": 109,
   "id": "8feef41d-d5af-43d1-8d66-9ce95143cf40",
   "metadata": {},
   "outputs": [
    {
     "data": {
      "application/vnd.jupyter.widget-view+json": {
       "model_id": "",
       "version_major": 2,
       "version_minor": 0
      },
      "text/plain": [
       "FloatProgress(value=0.0, bar_style='info', description='Progress:', layout=Layout(height='25px', width='50%'),…"
      ]
     },
     "metadata": {},
     "output_type": "display_data"
    },
    {
     "name": "stdout",
     "output_type": "stream",
     "text": [
      "{'changeovers': ['Zürich, Bahnhofquai/HB'], 'service_ids': ['TA+b09kv', 'TA+b14p0'], 'arrival_times': [1685091060.0, 1685091840.0], 'start_times': [1685090340.0, 1685091240.0], 'trip_ids': ['3144.TA.26-6-j20-1.39.H', '1967.TA.26-14-A-j20-1.15.H'], 'start_station': 'Zürich, Kirche Fluntern', 'end_station': 'Zürich Wiedikon, Bahnhof', 'T': 1685092200.0, 'times_for_changeovers': [180.0, 360.0]}"
     ]
    }
   ],
   "source": [
    "%%spark\n",
    "\n",
    "#itinerary = CSA(\"8591230\", \"8573710\", arrival_time=time(11,10,0))\n",
    "itinerary_example = [['3144.TA.26-6-j20-1.39.H', datetime(2023, 5, 26, 10, 39, 0), '8591230', datetime(2023, 5, 26, 10, 51, 0), '8587349'],\n",
    " ['1967.TA.26-14-A-j20-1.15.H', datetime(2023, 5, 26, 10, 54, 0), '8587349', datetime(2023, 5, 26, 11, 4, 0), '8573710'],\n",
    " [None, datetime(2023, 5, 26, 11, 10, 0), '8573710', None, None]]\n",
    "\n",
    "def extract_info_from_itinerary(itinerary):\n",
    "    result = {}\n",
    "    result['changeovers'] = []\n",
    "    result['service_ids'] = []\n",
    "    result['arrival_times'] = []\n",
    "    result['start_times'] = []\n",
    "    result['trip_ids'] = []\n",
    "    departure_times = []\n",
    "    for i in range(len(itinerary)):\n",
    "        if i == 0:\n",
    "            result['start_station'] = dict_stop_name_id[itinerary[i][2]]\n",
    "        elif i == len(itinerary) - 1:\n",
    "            result['end_station'] = dict_stop_name_id[itinerary[i][2]]\n",
    "            result['T'] = time.mktime(itinerary[i][1].timetuple())\n",
    "        else:\n",
    "            result['changeovers'].append(dict_stop_name_id[itinerary[i][2]])\n",
    "        \n",
    "        if i < len(itinerary) - 1:\n",
    "            result['start_times'].append(time.mktime(itinerary[i][1].timetuple()))\n",
    "            result['arrival_times'].append(time.mktime(itinerary[i][3].timetuple()))\n",
    "            result['service_ids'].append(dict_service_trip_id[itinerary[i][0]])\n",
    "            result['trip_ids'].append(itinerary[i][0])\n",
    "        \n",
    "        if i > 0:\n",
    "            departure_times.append(time.mktime(itinerary[i][1].timetuple()))\n",
    "    \n",
    "    result['times_for_changeovers'] = [departure_times[i] - result['arrival_times'][i] for i in range(len(departure_times))]\n",
    "        \n",
    "    return result\n",
    "\n",
    "res = extract_info_from_itinerary(itinerary_example)\n",
    "print(res)"
   ]
  },
  {
   "cell_type": "markdown",
   "id": "0766806a-f560-4136-8ea9-d694ba9f1e8b",
   "metadata": {},
   "source": [
    "Then, we have the following function that describe to the user the suggested trip (which means of transport, at which station, at what hour, etc ...)."
   ]
  },
  {
   "cell_type": "code",
   "execution_count": 134,
   "id": "760e2f73-57dd-49ce-9c09-34e9ea2e2906",
   "metadata": {},
   "outputs": [
    {
     "data": {
      "application/vnd.jupyter.widget-view+json": {
       "model_id": "",
       "version_major": 2,
       "version_minor": 0
      },
      "text/plain": [
       "FloatProgress(value=0.0, bar_style='info', description='Progress:', layout=Layout(height='25px', width='50%'),…"
      ]
     },
     "metadata": {},
     "output_type": "display_data"
    }
   ],
   "source": [
    "%%spark\n",
    "\n",
    "def describe_path_to_take(res, trip_route_dict, min_qu, act_qu):\n",
    "    print(\"Query:\")\n",
    "    print(f'From {res[\"start_station\"]} to {res[\"end_station\"]}')\n",
    "    print(f'Arrive before {datetime.utcfromtimestamp(res[\"T\"]).strftime(\"%Y-%m-%d %H:%M:%S\")} with a confidence of at least {min_qu}')\n",
    "    print('-----------------------------------------------------------------')\n",
    "    print(\"Response:\")\n",
    "    if min_qu > act_qu:\n",
    "        print(f\"Confidence interval of {act_qu} is too low, must find another path\")\n",
    "        return False\n",
    "    \n",
    "    for i in range(len(res['trip_ids'])):\n",
    "        if i == 0:\n",
    "            print(f'Trip {i+1} ({trip_route_dict[res[\"trip_ids\"][i]]}): {res[\"start_station\"]} ({datetime.utcfromtimestamp(res[\"start_times\"][i]).strftime(\"%Y-%m-%d %H:%M:%S\")}) -> {res[\"changeovers\"][i]} ({datetime.utcfromtimestamp(res[\"arrival_times\"][i]).strftime(\"%Y-%m-%d %H:%M:%S\")})')\n",
    "        elif i == len(res['trip_ids']) - 1:\n",
    "            print(f'Trip {i+1} ({trip_route_dict[res[\"trip_ids\"][i]]}): {res[\"changeovers\"][i-1]} ({datetime.utcfromtimestamp(res[\"start_times\"][i]).strftime(\"%Y-%m-%d %H:%M:%S\")}) -> {res[\"end_station\"]} ({datetime.utcfromtimestamp(res[\"arrival_times\"][i]).strftime(\"%Y-%m-%d %H:%M:%S\")})')\n",
    "        else:\n",
    "            print(f'Trip {i+1} ({trip_route_dict[res[\"trip_ids\"][i]]}): {res[\"changeovers\"][i-1]} ({datetime.utcfromtimestamp(res[\"start_times\"][i]).strftime(\"%Y-%m-%d %H:%M:%S\")}) -> {res[\"changeovers\"][i]} ({datetime.utcfromtimestamp(res[\"arrival_times\"][i]).strftime(\"%Y-%m-%d %H:%M:%S\")})')\n",
    "        \n",
    "    print(f'You will arrive at {res[\"end_station\"]} before {datetime.utcfromtimestamp(res[\"T\"]).strftime(\"%Y-%m-%d %H:%M:%S\")} with confidence {act_qu}!')\n",
    "    return True"
   ]
  },
  {
   "cell_type": "code",
   "execution_count": 135,
   "id": "39a3e037-4168-4a54-8a35-3a116ef737e3",
   "metadata": {},
   "outputs": [
    {
     "data": {
      "application/vnd.jupyter.widget-view+json": {
       "model_id": "",
       "version_major": 2,
       "version_minor": 0
      },
      "text/plain": [
       "FloatProgress(value=0.0, bar_style='info', description='Progress:', layout=Layout(height='25px', width='50%'),…"
      ]
     },
     "metadata": {},
     "output_type": "display_data"
    },
    {
     "name": "stdout",
     "output_type": "stream",
     "text": [
      "Query:\n",
      "From Zürich, Kirche Fluntern to Zürich Wiedikon, Bahnhof\n",
      "Arrive before 2023-05-26 09:10:00 with a confidence of at least 0.95\n",
      "-----------------------------------------------------------------\n",
      "Response:\n",
      "Confidence interval of 0.94 is too low, must find another path"
     ]
    }
   ],
   "source": [
    "%%spark\n",
    "resp = describe_path_to_take(res, transport_name_dict, 0.95, 0.94)"
   ]
  },
  {
   "cell_type": "markdown",
   "id": "529dfb28-bf20-4c8b-a328-15d96b5289b3",
   "metadata": {
    "tags": []
   },
   "source": [
    "Let's now try with the other working trip with changeovers"
   ]
  },
  {
   "cell_type": "code",
   "execution_count": 125,
   "id": "0a9ace85-6a24-4fe5-a8a9-e4813a0764ac",
   "metadata": {
    "tags": []
   },
   "outputs": [
    {
     "data": {
      "application/vnd.jupyter.widget-view+json": {
       "model_id": "",
       "version_major": 2,
       "version_minor": 0
      },
      "text/plain": [
       "FloatProgress(value=0.0, bar_style='info', description='Progress:', layout=Layout(height='25px', width='50%'),…"
      ]
     },
     "metadata": {},
     "output_type": "display_data"
    },
    {
     "name": "stdout",
     "output_type": "stream",
     "text": [
      "Query:\n",
      "From Zürich, Kirche Fluntern to Zürich Wiedikon, Bahnhof\n",
      "Arrive before 2023-05-26 09:10:00 with a confidence of at least 0.95\n",
      "-----------------------------------------------------------------\n",
      "Response:\n",
      "Trip 1 (Tram 6): Zürich, Kirche Fluntern (2023-05-26 08:39:00) -> Zürich, Bahnhofquai/HB (2023-05-26 08:51:00)\n",
      "Trip 2 (Tram 14): Zürich, Bahnhofquai/HB (2023-05-26 08:54:00) -> Zürich Wiedikon, Bahnhof (2023-05-26 09:04:00)\n",
      "You will arrive at Zürich Wiedikon, Bahnhof before 2023-05-26 09:10:00 with confidence 0.9581413210445469!"
     ]
    }
   ],
   "source": [
    "%%spark\n",
    "\n",
    "min_qu = 0.95\n",
    "# Calculate the feasibility of a path\n",
    "qu, trip_id, _ = level_of_feasibility(df, [], res['start_station'], res['end_station'],\n",
    "                         res['changeovers'], res['T'], res['arrival_times'], res['times_for_changeovers'], res['trip_ids'])\n",
    "\n",
    "describe_path_to_take(res, transport_name_dict, min_qu, qu)"
   ]
  },
  {
   "cell_type": "code",
   "execution_count": 40,
   "id": "45cff2ef-3df3-4169-952a-e75de4df6f24",
   "metadata": {},
   "outputs": [],
   "source": [
    "%spark cleanup"
   ]
  }
 ],
 "metadata": {
  "kernelspec": {
   "display_name": "Python 3 (ipykernel)",
   "language": "python",
   "name": "python3"
  },
  "language_info": {
   "codemirror_mode": {
    "name": "ipython",
    "version": 3
   },
   "file_extension": ".py",
   "mimetype": "text/x-python",
   "name": "python",
   "nbconvert_exporter": "python",
   "pygments_lexer": "ipython3",
   "version": "3.9.12"
  }
 },
 "nbformat": 4,
 "nbformat_minor": 5
}
